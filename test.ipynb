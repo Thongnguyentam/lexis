{
 "cells": [
  {
   "cell_type": "markdown",
   "metadata": {},
   "source": [
    "# SnowflakeConnector Testing Notebook"
   ]
  },
  {
   "cell_type": "code",
   "execution_count": 1,
   "metadata": {},
   "outputs": [],
   "source": [
    "# Import required modules and classes\n",
    "from config import SnowflakeConfig\n",
    "import pandas as pd\n",
    "from services.snowflake_utils import SnowflakeConnector"
   ]
  },
  {
   "cell_type": "code",
   "execution_count": 2,
   "metadata": {},
   "outputs": [
    {
     "name": "stdout",
     "output_type": "stream",
     "text": [
      "Connector initialized successfully\n"
     ]
    }
   ],
   "source": [
    "# Initialize configuration and connector\n",
    "\n",
    "config = SnowflakeConfig(\n",
    "    database=\"PROJECTX\",\n",
    "    schema=\"PUBLIC\",\n",
    "    search_service=\"CC_SEARCH_SERVICE_CS\",\n",
    "    warehouse=\"COMPUTE_WH\",\n",
    "    stage_name=\"@docs\"\n",
    ")\n",
    "\n",
    "connector = SnowflakeConnector(config)\n",
    "print(\"Connector initialized successfully\")"
   ]
  },
  {
   "cell_type": "code",
   "execution_count": 12,
   "metadata": {},
   "outputs": [
    {
     "data": {
      "text/plain": [
       "'{\"results\":[{\"chunk\":\"{\\\\\"content\\\\\":\\\\\"\\\\\\\\n# Dylan Nguyen\\\\\\\\n  \\\\\\\\n(+1) 608-421-0314 tnguyen65@wisc.edu Linkedin Github  \\\\\\\\nEducation  \\\\\\\\nMadison, WI  \\\\\\\\nUniversity of Wisconsin-Madison\\\\\\\\n* B.S. in Computer Science and Data Science, GPA: 3.89 (Dean\\'s List)\\\\\\\\n  \\\\\\\\nExpected December 2025\\\\\\\\n* Relevant Coursework: Mobile Systems and Applications, Introduction to Algorithms, Introduction to Optimization, Big Data, Machine Learning, Deep Learning for Computer Vision\\\\\\\\n  \\\\\\\\nExperience  \\\\\\\\nMay. 2024 - Sept. 2024  \\\\\\\\nSoftware Engineer InternHo Chi Minh, Vietnam  \\\\\\\\nMobifone, Vietnam Mobile Telecom Services Company\\\\\\\\n* : Collaborated with 6 engineers in an Agile environment across 5 sprints to gather business requirements and developed 20+ API endpoints, integrating with corresponding Flutter front-end features.\\\\\\\\n* . Optimized app responsiveness by implementing asynchronous functions, accelerating query response time by 85%, and reduced API payload size by 80% via pagination and data structure optimization.\\\\\\\\n* Leveraged GitLab\\'s CI/CD to compose and deploy Docker images to QA/QC and production servers, enabling seamless updates through 25+ pull requests.\\\\\\\\n  \\\\\\\\nPeer Mentor  \\\\\\\\nJan. 2023 - May 2024\\\\\\\\n|Peer Mentor|Jan. 2023 - May 2024|\\\\\\\\n| :---: | :---: |\\\\\\\\n\\\\\\\\n* Statistics Learning Center and Computer Science Learning Center\\\\\\\\nMadison, WI\\\\\\\\n* . Organized and scheduled lab sessions with 10+ teaching members, enhancing 50+ students\\' comprehension topics like OOP, Python tabular analysis, and data structures (tree and graph search).\\\\\\\\n* Conducted 100+\",\"category\":\"Resume\",\"relative_path\":\"Resume___Dylan_Nguyen (16).pdf\"},{\"chunk\":\"a RAG system leveraging Azure AI Search and Blob Storage, optimizing session context management by improving semantic search capabilities, leading to a projected 35% increase in user engagement\\\\\\\\n* Led a team of 3 developers to deliver a scalable, end-to-end speech-to-speech conversational pipeline,\\\\\\\\n* incorporating Azure Speech Services for real-time text-to-speech synthesis and audio transcription\\\\\\\\n  \\\\\\\\nJun. 2024 - Oct.2024  \\\\\\\\nVibes\\\\\\\\n* Integrated Google and Apple Sign-In APIs to facilitate secure and seamless user authentication. Connected the Spotify Web API for music streaming and mood tracking based on user preferences and listening history.\\\\\\\\n* Developed a scalable authentication and authorization system using OAuth 2.0, role-based access control, and JWT\\\\\\\\n* : Designed and executed over 50 automated integration tests using Bash Scripting, achieving a 100% pass rate, ensuring robust backend functionality, and enhancing system reliability in a production environment.\\\\\\\\n  \\\\\\\\nTechnical Skills  \\\\\\\\nLanguages: Python, Java, C/C++, R, JavaScript, TypeScript, Bash Scripting Frameworks/Libraries: FastAPI, Flask, RESTful APIs, Numpy, Pandas, Pytorch DevOps & Tools: Docker, Git,Linux, MySQL,PostgreSQL, Microsoft Azure  \\\\\\\\nLeadership  \\\\\\\\nProject Team Lead  \\\\\\\\nSep. 2022 - May 2023\\\\\\\\n* Data Science for Sustainable Development Club\\\\\\\\n  \\\\\\\\nMadison, WI\\\\\\\\n* Hosted 20+ weekly study sessions and technology support on topics including deep learning models, regression analysis and data visualization, focusing on\",\"relative_path\":\"Resume___Dylan_Nguyen (16).pdf\",\"category\":\"Resume\"},{\"chunk\":\"Science Learning Center\\\\\\\\nMadison, WI\\\\\\\\n* . Organized and scheduled lab sessions with 10+ teaching members, enhancing 50+ students\\' comprehension topics like OOP, Python tabular analysis, and data structures (tree and graph search).\\\\\\\\n* Conducted 100+ one-on-one consulting hours, troubleshooting technical issues, and providing personalized feedback on 6 weekly projects, leading to a 20% average improvement in students\\' grades.\\\\\\\\n  \\\\\\\\nResearch Student  \\\\\\\\nJune 2023 - Sept. 2023Madison, WI\\\\\\\\n* Informatics Skunkworks, Undergraduate Machine Learning Research\\\\\\\\n* : Developed an approach using the Crystal Diffusion Variational Autoencoder model to predict novel stable materials and generate them using deep learning diffusion models based on known structures\\\\\\\\n* : Engineered a big data pipeline for processing 75,000 materials across 3 datasets, utilizing High Throughput Computing resources, which reduced data processing costs by 30% and completed the task within 24 hours.\\\\\\\\n  \\\\\\\\nProjectsNov. 2024 - Jan. 2025  \\\\\\\\nZeltaGitHub\\\\\\\\n* : Designed and implemented an Agentic AI system with 6 Autogen assistant agents, enabling functionalities such as user input reformulation, intent classification, and generating real-time, context-aware partner responses.\\\\\\\\n* Developed a RAG system leveraging Azure AI Search and Blob Storage, optimizing session context management by improving semantic search capabilities, leading to a projected 35% increase in user engagement\\\\\\\\n* Led a team of 3 developers to deliver a scalable,\",\"relative_path\":\"Resume___Dylan_Nguyen (16).pdf\",\"category\":\"Resume\"}],\"request_id\":\"d0fa5ad3-12cd-47bd-945e-3909062b9e4d\"}'"
      ]
     },
     "execution_count": 12,
     "metadata": {},
     "output_type": "execute_result"
    }
   ],
   "source": [
    "res = connector.get_similar_chunks_search_service(query=\"What is in Dylan's resume's leadership section?\", num_chunks=3)\n",
    "res"
   ]
  },
  {
   "cell_type": "code",
   "execution_count": 9,
   "metadata": {},
   "outputs": [
    {
     "data": {
      "text/plain": [
       "{'results': [{'chunk': 'a RAG system leveraging Azure AI Search and Blob Storage, optimizing session context management by improving semantic search capabilities, leading to a projected 35% increase in user engagement\\\\n* Led a team of 3 developers to deliver a scalable, end-to-end speech-to-speech conversational pipeline,\\\\n* incorporating Azure Speech Services for real-time text-to-speech synthesis and audio transcription\\\\n  \\\\nJun. 2024 - Oct.2024  \\\\nVibes\\\\n* Integrated Google and Apple Sign-In APIs to facilitate secure and seamless user authentication. Connected the Spotify Web API for music streaming and mood tracking based on user preferences and listening history.\\\\n* Developed a scalable authentication and authorization system using OAuth 2.0, role-based access control, and JWT\\\\n* : Designed and executed over 50 automated integration tests using Bash Scripting, achieving a 100% pass rate, ensuring robust backend functionality, and enhancing system reliability in a production environment.\\\\n  \\\\nTechnical Skills  \\\\nLanguages: Python, Java, C/C++, R, JavaScript, TypeScript, Bash Scripting Frameworks/Libraries: FastAPI, Flask, RESTful APIs, Numpy, Pandas, Pytorch DevOps & Tools: Docker, Git,Linux, MySQL,PostgreSQL, Microsoft Azure  \\\\nLeadership  \\\\nProject Team Lead  \\\\nSep. 2022 - May 2023\\\\n* Data Science for Sustainable Development Club\\\\n  \\\\nMadison, WI\\\\n* Hosted 20+ weekly study sessions and technology support on topics including deep learning models, regression analysis and data visualization, focusing on',\n",
       "   'category': 'Resume',\n",
       "   'relative_path': 'Resume___Dylan_Nguyen (16).pdf'}],\n",
       " 'request_id': 'f1b848fc-6b94-4822-9ea9-8275047cb2da'}"
      ]
     },
     "execution_count": 9,
     "metadata": {},
     "output_type": "execute_result"
    }
   ],
   "source": [
    "import json\n",
    "\n",
    "json.loads(res)"
   ]
  },
  {
   "cell_type": "code",
   "execution_count": null,
   "metadata": {},
   "outputs": [],
   "source": [
    "from utils.snowflake_upload import upload_to_stage\n",
    "\n",
    "\n",
    "upload_to_stage()"
   ]
  }
 ],
 "metadata": {
  "kernelspec": {
   "display_name": "env",
   "language": "python",
   "name": "python3"
  },
  "language_info": {
   "codemirror_mode": {
    "name": "ipython",
    "version": 3
   },
   "file_extension": ".py",
   "mimetype": "text/x-python",
   "name": "python",
   "nbconvert_exporter": "python",
   "pygments_lexer": "ipython3",
   "version": "3.11.5"
  }
 },
 "nbformat": 4,
 "nbformat_minor": 4
}
