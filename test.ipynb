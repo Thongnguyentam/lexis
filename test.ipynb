{
 "cells": [
  {
   "cell_type": "markdown",
   "metadata": {},
   "source": [
    "# SnowflakeConnector Testing Notebook"
   ]
  },
  {
   "cell_type": "code",
   "execution_count": 1,
   "metadata": {},
   "outputs": [],
   "source": [
    "# Import required modules and classes\n",
    "from config import SnowflakeConfig\n",
    "import pandas as pd\n",
    "from utils.snowflake_utils import SnowflakeConnector"
   ]
  },
  {
   "cell_type": "code",
   "execution_count": 2,
   "metadata": {},
   "outputs": [
    {
     "name": "stdout",
     "output_type": "stream",
     "text": [
      "Connection Parameters (excluding password):\n",
      "Account: lmb53062.us-east-1\n",
      "User: STEPHANIENGUYEN\n",
      "Database: PROJECTX\n",
      "Schema: PUBLIC\n",
      "Warehouse: COMPUTE_WH\n",
      "Snowflake session created successfully!\n",
      "Successfully initialized SnowflakeConnector with search service: CC_SEARCH_SERVICE_CS\n",
      "Connector initialized successfully\n"
     ]
    }
   ],
   "source": [
    "# Initialize configuration and connector\n",
    "\n",
    "config = SnowflakeConfig(\n",
    "    database=\"PROJECTX\",\n",
    "    schema=\"PUBLIC\",\n",
    "    search_service=\"CC_SEARCH_SERVICE_CS\",\n",
    "    warehouse=\"COMPUTE_WH\",\n",
    "    stage_name=\"@docs\"\n",
    ")\n",
    "\n",
    "connector = SnowflakeConnector(config)\n",
    "print(\"Connector initialized successfully\")"
   ]
  },
  {
   "cell_type": "code",
   "execution_count": 3,
   "metadata": {},
   "outputs": [
    {
     "data": {
      "text/plain": [
       "'{\"results\":[{\"chunk\":\"informal taxation and incentives for conformity, in the extreme leading to what Acemoglu and Robinson (2019) refer to as the \\\\\\\\\\\\\"cage of norms.\\\\\\\\\\\\\" An important next step is to incorporate such adverse aspects of community relations and investigate when more favorable employment outcomes support positive community norms and when they instead abet negative or discriminatory norms.Third, our work also points towards new empirical explorations. More work is needed to investigate whether there is a causal relationship between the disappearance of attractive em ployment opportunities for workers and the retrenchment of civic life in local communities, and whether this causal effect works through the mechanisms highlighted by our framework. The evidence presented in, among others, Wilson (1996), Black, McKinnish, and Sanders (2005), and Autor, Dorn, and Hanson (2019) suggests that this is plausible, but the exact causal mech- anisms have yet to be studied empirically. For instance, it is possible that variables found to be correlated with social mobility, education, health, and other socioeconomic outcomes in these literatures may be proxying for labor market rents or how binding the outside options of differ- ent demographic groups are. Our results therefore push for empirical models where the causal effects of these variables are carefully controlled for. They also suggest new empirical tests, for example exploring whether exogenous declines in wages in an areaholding constant other aspects of\",\"relative_path\":\"Employment and Community - Socioeconomic Cooperation and Its Breakdown.pdf\",\"category\":\"Document\"},{\"chunk\":\"However, further increases in M raise total welfare, as this benefits managers and has no effect on workers.Proposition @2 shows that improving outside options shifts the equilibrium employment regime from soft or tough-but-fair to tough (in addition to reducing payoffs within each type of equilibrium). The intuition is that improving outside options reduces community benefits, which in turn makes it more difficult to dissuade managers from adopting the tough regime. This finding and intuition are consistent with the evidence in Amore, Bennedsen, and Larsen (2022), discussed in the Introduction: Danish firms with locally-residing CEOs and with CEOs whose children attend the same school as those of employees, have higher employee satisfaction. The Anchor Hocking case from the Introduction is also consistent with this result: Alexander (2017) reports that many Lancaster residents believed that the venture capitalist Newell, who later took over the company, instructed managers not to live in Lancasterbecause they would not adopt painful cost-cutting measures if they were heavily involved in the communityFinally, Proposition @3 establishes that polarizing outside options in favor of managers reduces total welfare, when managers exert less community effort than workers. This form of polarization can capture societal changes that push rich and poor individuals to segregate in distinct neighborhoods, where the rich neighborhoods are more desirable. The logic of this result is that, when B\",\"category\":\"Document\",\"relative_path\":\"Employment and Community - Socioeconomic Cooperation and Its Breakdown.pdf\"},{\"chunk\":\"by 2019, before the pandemic, this share had fallen to less than 70%. The GSS also indicates that the share of Americans with no membership in any non-religious civid association increased from around 35% in the early 1980s to over 45% in 2004while the share of Americans who said that most people can be trusted dropped precipitously from around 40% in 1975 to just above 20% in 2022]3 These weakening civic ties are reflected in how much Americans appear to be willing to make sacrifices for the good of others as measured by blood donations per capita, which have declined from the early 1990s by about one third (Wallace et al.1998] Free et al.2023). Other measures of the health of American communities are also in decline: the fraction of out-of-wedlock births and single-parent households have increased (Kearney2023), \\\\\\\\\\\\\"deaths of despair\\\\\\\\\\\\\" have risen (Case and Deaton2020), and various dimensions of civic-mindedness and trust have declined (Rainie and Perrin 2019). The same period has also witnessed changes in the internal organization and management strategies of firms, with evidence suggesting both a shift toward less worker-friendly management practices (Stansbury and Summers2020] Acemoglu, He, and Maire2023) and more intensive worker monitoring (Gordon[1996)The experiences of several US communities can illustrate these patterns and give us clues about the underlying mechanisms. The meat-processing company Hormel, mentioned in the opening quote, was a mainstay of the town of Austin,\",\"category\":\"Document\",\"relative_path\":\"Employment and Community - Socioeconomic Cooperation and Its Breakdown.pdf\"}],\"request_id\":\"e1c3a8e8-d6b7-44b7-b6fb-a4f8c33296d5\"}'"
      ]
     },
     "execution_count": 3,
     "metadata": {},
     "output_type": "execute_result"
    }
   ],
   "source": [
    "res = connector.get_similar_chunks_search_service(query=\"Why do people resist switching to alternative opportunities when their current livelihood becomes unsustainable?\", num_chunks=3)\n",
    "res"
   ]
  },
  {
   "cell_type": "code",
   "execution_count": 19,
   "metadata": {},
   "outputs": [
    {
     "name": "stdout",
     "output_type": "stream",
     "text": [
      "name='docs/Employment and Community - Socioeconomic Cooperation and Its Breakdown.pdf' size='417598' md5='67c5e9441f90342dec4b80fef92f148d' last_modified='Mon, 20 Jan 2025 21:15:52 GMT'\n",
      "name='docs/Help_for_the_Heartland_20240815.pdf' size='9707566' md5='262dcba9373b9091c94a03f7a9358e69-2' last_modified='Mon, 20 Jan 2025 21:15:53 GMT'\n",
      "name='docs/Learning from Ricardo and Thompson - Machinery and Labor in the Early Industrial Revolution - and in the Age of AI.pdf' size='346719' md5='dae373a77eaad42296bad5bd0c5a65bd' last_modified='Mon, 20 Jan 2025 21:15:52 GMT'\n",
      "name='docs/Mistrust, Misperception, and Misunderstanding - Imperfect Information and Conflict Dynamics.pdf' size='971967' md5='a5631684bb0377e26c7d2d67f88daa4e' last_modified='Mon, 20 Jan 2025 21:15:52 GMT'\n",
      "name='docs/Tasks at Work - Comparative Advantage, Technology and Labor Demand.pdf' size='5511832' md5='88092466e50d87ccc480ed43e5f2fe9c-2' last_modified='Mon, 20 Jan 2025 21:15:54 GMT'\n",
      "name='docs/The Simple Macroeconomics of AI.pdf' size='1678548' md5='b3dff62be04088563c6701976a9b8205' last_modified='Mon, 20 Jan 2025 21:15:53 GMT'\n",
      "name='docs/capital and wages.pdf' size='259990' md5='164c97a1dcb698323ec126f934e3d838' last_modified='Mon, 20 Jan 2025 21:15:52 GMT'\n"
     ]
    }
   ],
   "source": [
    "for item in connector.root.databases[\"PROJECTX\"].schemas[\"PUBLIC\"].stages[\"docs\"].list_files():\n",
    "    print(item)"
   ]
  },
  {
   "cell_type": "code",
   "execution_count": null,
   "metadata": {},
   "outputs": [],
   "source": [
    "from utils.snowflake_upload import upload_to_stage\n",
    "\n",
    "\n",
    "upload_to_stage()"
   ]
  },
  {
   "cell_type": "markdown",
   "metadata": {},
   "source": [
    "# Test chat"
   ]
  },
  {
   "cell_type": "code",
   "execution_count": 2,
   "metadata": {},
   "outputs": [
    {
     "name": "stdout",
     "output_type": "stream",
     "text": [
      "Connection Parameters (excluding password):\n",
      "Account: lmb53062.us-east-1\n",
      "User: STEPHANIENGUYEN\n",
      "Database: PROJECTX\n",
      "Schema: PUBLIC\n",
      "Warehouse: COMPUTE_WH\n",
      "Snowflake session created successfully!\n",
      "Successfully initialized SnowflakeConnector with search service: CC_SEARCH_SERVICE_CS\n",
      "search_result {\"results\":[{\"chunk\":\"Chinese government debt.China has its own banking system that is almost entirely walled off from international finance, with non-Chinese investors controlling less than 2% of Chinese bank assets.  \\\\nImplications for Vietnam\\\\n* The relationship between the United States and Vietnam has undergone significant changes in recent years. The U.S. and Vietnam have strengthened their diplomatic ties, particularly in the field of economic cooperation. Vietnam has emerged as a key partner in the US' strategic competition with China.\\\\nTo avoid financial sanctions, China has been pushing cross- border payments in the renminbi. In addition, the country's alternative to SWIFT, CIPS (the Cross-Border Interbank Payment System), represents a second cornerstone in the risk mitigation plan. China is also piloting cross-border transactions using digital currency with the United Arab Emirates, Thailand, and other countries.\\\\n* In the context of decoupling, the United States and Vietnam have seen opportunities for closer economic ties. Vietnam has been seeking to diversify its export. markets and reduce its reliance on China, and the US has recognized the potential economic benefits of this relationship.\\\\n\\\\n## 3. The third pillar of China's de-risking strategy entails reducing reliance on unfriendly states for Trade\\\\nChina sees overreliance on any country for trade flows as a weakness. For an export-oriented economy such as China, excessive dependence on any given country for critical input imports or as a\",\"category\":\"Document\",\"relative_path\":\"vietnam-2024-outlook-report-en.pdf\"},{\"chunk\":\"Chinese government debt.China has its own banking system that is almost entirely walled off from international finance, with non-Chinese investors controlling less than 2% of Chinese bank assets.  \\\\nImplications for Vietnam\\\\n* The relationship between the United States and Vietnam has undergone significant changes in recent years. The U.S. and Vietnam have strengthened their diplomatic ties, particularly in the field of economic cooperation. Vietnam has emerged as a key partner in the US' strategic competition with China.\\\\nTo avoid financial sanctions, China has been pushing cross- border payments in the renminbi. In addition, the country's alternative to SWIFT, CIPS (the Cross-Border Interbank Payment System), represents a second cornerstone in the risk mitigation plan. China is also piloting cross-border transactions using digital currency with the United Arab Emirates, Thailand, and other countries.\\\\n* In the context of decoupling, the United States and Vietnam have seen opportunities for closer economic ties. Vietnam has been seeking to diversify its export. markets and reduce its reliance on China, and the US has recognized the potential economic benefits of this relationship.\\\\n\\\\n## 3. The third pillar of China's de-risking strategy entails reducing reliance on unfriendly states for Trade\\\\nChina sees overreliance on any country for trade flows as a weakness. For an export-oriented economy such as China, excessive dependence on any given country for critical input imports or as a\",\"relative_path\":\"vietnam-2024-outlook-report-en.pdf\",\"category\":\"\"},{\"chunk\":\"geopolitical tensions in recent years.  \\\\nGlobalimpactThe U.S. and Chinese economies are closely interconnected, but their ties are eroding. Proponents of decoupling argue that this is a necessary step to protect national security interests and advance alternative sources of growth.\\\\n* In recent years, certain countries have increasingly replaced China in the U.S. market. For overall shares, the countries with the biggest gains were Vietnam, Taiwan, Canada, Mexico, India, and Korea. These six countries account for more than 5.3 percentage points. For strategic goods(1), Vietnam and Taiwan appear to have gained the largest market share in the U.S. over the period.\\\\nThe U.S.-China bilateral trade recorded a slump of 11.6 percent in 2023, the first fall since 2019. This was due to declines in global demand and the U.S. export sanctions, which continue to block U.S. firms' exports to China.  \\\\nChanges in U.S. imports share, 2017-2022 (percentage point)Rising tensions between Washington and Beijing are driving the U.S. and Chinese investors away from each market.\\\\n|1.9|1|0.75|0.64|0.57|0.53||\\\\n| :---: | :---: | :---: | :---: | :---: | :---: | :---: |\\\\n|Vietnam|Taiwan|Canada|Mexico|India|South Korea||\\\\n\\\\n## China's de-risking strategy\\\\n\\\\n## 1. The most consequential aspect of the U.s.-China decoupling is in Technology\\\\nTo China, technology forms the backbone of economic and military superiority. Therefore, technological self-sufficiency is an existential imperative to survive and thrive. In\",\"relative_path\":\"vietnam-2024-outlook-report-en.pdf\",\"category\":\"\"}],\"request_id\":\"819f3dd7-c7da-4077-8245-4e9c5bcaf0e4\"}\n",
      "search_res: - *Summary*: The strategic competition between the US and China is multifaceted, involving economic, technological, and geopolitical dimensions. Vietnam plays a crucial role in this competition, particularly in economic cooperation and diversifying export markets (sourced from 'vietnam-2024-outlook-report-en.pdf').\n",
      "\n",
      "- *Detailed Analysis*:\n",
      "  - **Strategic Competition between the US and China**:\n",
      "    - The US and China are experiencing a decoupling of their economies, driven by national security interests and the need to diversify growth sources. This decoupling is evident in the decline in bilateral trade, which fell by 11.6 percent in 2023, marking the first decrease since 2019. This drop is attributed to reduced global demand and US export sanctions that restrict US firms from exporting to China ('vietnam-2024-outlook-report-en.pdf').\n",
      "    - The technological aspect of the decoupling is particularly significant. China views technological self-sufficiency as crucial for economic and military superiority. This focus on technology is an essential part of China's strategy to mitigate risks and reduce dependence on other countries ('vietnam-2024-outlook-report-en.pdf').\n",
      "\n",
      "  - **Vietnam's Role**:\n",
      "    - Vietnam has emerged as a key partner for the US in its strategic competition with China. The relationship between the US and Vietnam has strengthened, especially in economic cooperation. Vietnam is seeking to diversify its export markets and reduce its reliance on China, which aligns with the US's economic interests ('vietnam-2024-outlook-report-en.pdf').\n",
      "    - In the context of decoupling, Vietnam has seen opportunities for closer economic ties with the US. This relationship is beneficial for both countries as Vietnam looks to expand its export markets and the US recognizes the economic advantages of this partnership ('vietnam-2024-outlook-report-en.pdf').\n",
      "    - Vietnam, along with other countries like Taiwan, Canada, Mexico, India, and South Korea, has increasingly replaced China in the US market. For strategic goods, Vietnam and Taiwan have gained the largest market share in the US over the period from 2017 to 2022 ('vietnam-2024-outlook-report-en.pdf').\n",
      "\n",
      "- *Citations*:\n",
      "  1. vietnam-2024-outlook-report-en.pdf\n",
      "is_search:  no\n",
      "\u001b[34m\n",
      "********************************************************************************\u001b[0m\n",
      "\u001b[34mStarting a new chat....\u001b[0m\n",
      "\u001b[34m\n",
      "********************************************************************************\u001b[0m\n",
      "\u001b[33muser_proxy\u001b[0m (to writer_agent):\n",
      "\n",
      "\n",
      "   You are an expert chat assistance that extracts information from the CONTEXT provided between <context> and </context> tags..\n",
      "   When ansering the question contained between <question> and </question> tags be concise and do not hallucinate. \n",
      "   If you don´t have the information just say so.\n",
      "   Only anwer the question if you can extract it from the CONTEXT provideed.\n",
      "\n",
      "   Do not mention the CONTEXT used in your answer. Respond in this format:\n",
      "   1. Summary: A brief summary of the findings from the database, explicitly referencing the sources.\n",
      "   2. Detailed Analysis: An in-depth explanation based on the documents, with citations for each piece of information.\n",
      "   3. Citations: A list of all referenced sources included in the relative path of the search results.\n",
      "\n",
      "   Example Response:\n",
      "   - Summary: Key insights from the documents include X, Y, and Z (sourced from 'relative_path_to_document.pdf').\n",
      "   - Detailed Analysis: The document 'relative_path_to_document.pdf' highlights that [detailed analysis of X]. Additionally, 'another_document.pdf' explains [detailed analysis of Y]. \n",
      "   - Citations: \n",
      "      1. relative_path_to_document.pdf\n",
      "      2. another_document.pdf\n",
      "\n",
      "   <context>          \n",
      "   - *Summary*: The strategic competition between the US and China is multifaceted, involving economic, technological, and geopolitical dimensions. Vietnam plays a crucial role in this competition, particularly in economic cooperation and diversifying export markets (sourced from 'vietnam-2024-outlook-report-en.pdf').\n",
      "\n",
      "- *Detailed Analysis*:\n",
      "  - **Strategic Competition between the US and China**:\n",
      "    - The US and China are experiencing a decoupling of their economies, driven by national security interests and the need to diversify growth sources. This decoupling is evident in the decline in bilateral trade, which fell by 11.6 percent in 2023, marking the first decrease since 2019. This drop is attributed to reduced global demand and US export sanctions that restrict US firms from exporting to China ('vietnam-2024-outlook-report-en.pdf').\n",
      "    - The technological aspect of the decoupling is particularly significant. China views technological self-sufficiency as crucial for economic and military superiority. This focus on technology is an essential part of China's strategy to mitigate risks and reduce dependence on other countries ('vietnam-2024-outlook-report-en.pdf').\n",
      "\n",
      "  - **Vietnam's Role**:\n",
      "    - Vietnam has emerged as a key partner for the US in its strategic competition with China. The relationship between the US and Vietnam has strengthened, especially in economic cooperation. Vietnam is seeking to diversify its export markets and reduce its reliance on China, which aligns with the US's economic interests ('vietnam-2024-outlook-report-en.pdf').\n",
      "    - In the context of decoupling, Vietnam has seen opportunities for closer economic ties with the US. This relationship is beneficial for both countries as Vietnam looks to expand its export markets and the US recognizes the economic advantages of this partnership ('vietnam-2024-outlook-report-en.pdf').\n",
      "    - Vietnam, along with other countries like Taiwan, Canada, Mexico, India, and South Korea, has increasingly replaced China in the US market. For strategic goods, Vietnam and Taiwan have gained the largest market share in the US over the period from 2017 to 2022 ('vietnam-2024-outlook-report-en.pdf').\n",
      "\n",
      "- *Citations*:\n",
      "  1. vietnam-2024-outlook-report-en.pdf\n",
      "   </context>\n",
      "   <question>  \n",
      "   What is the strategic competition between US and China? What is Vietnam role in that competition?\n",
      "   </question>\n",
      "   Answer: \n",
      "   \n",
      "\n",
      "--------------------------------------------------------------------------------\n"
     ]
    },
    {
     "name": "stderr",
     "output_type": "stream",
     "text": [
      "Token indices sequence length is longer than the specified maximum sequence length for this model (863 > 512). Running this sequence through the model will result in indexing errors\n"
     ]
    },
    {
     "name": "stdout",
     "output_type": "stream",
     "text": [
      "\u001b[33mwriter_agent\u001b[0m (to user_proxy):\n",
      "\n",
      "1. Summary : The strategic competition between the US and China involves economic decoupling, technological self-sufficiency, and geopolitical maneuvers, with Vietnam playing a key role in economic cooperation and diversifying export markets.\n",
      "\n",
      "2. Detailed Analysis :\n",
      "   - The US and China are experiencing economic decoupling, with bilateral trade declining by 11.6% in 2023 due to national security interests and US export sanctions. This decoupling is driven by the need to diversify growth sources and reduce dependence.\n",
      "   - Technologically, China aims for self-sufficiency to achieve economic and military superiority, reducing its reliance on other countries.\n",
      "   - Vietnam has become a crucial partner for the US, strengthening economic ties and helping the US diversify its export markets away from China. This alignment benefits both countries as Vietnam expands its export markets and the US gains economic advantages.\n",
      "   - Countries like Vietnam, Taiwan, Canada, Mexico, India, and South Korea have increasingly replaced China in the US market, with Vietnam and Taiwan gaining significant market share for strategic goods from 2017 to 2022.\n",
      "\n",
      "3. Citations :\n",
      "   1. vietnam-2024-outlook-report-en.pdf\n",
      "\n",
      "--------------------------------------------------------------------------------\n",
      "Critic Agent Reflecting ... yellow\n",
      "\u001b[34m\n",
      "********************************************************************************\u001b[0m\n",
      "\u001b[34mStarting a new chat....\u001b[0m\n",
      "\u001b[34m\n",
      "********************************************************************************\u001b[0m\n",
      "\u001b[33muser_proxy\u001b[0m (to critic_agent):\n",
      "\n",
      "\n",
      "        Researcher's response: \n",
      "1. Summary : The strategic competition between the US and China involves economic decoupling, technological self-sufficiency, and geopolitical maneuvers, with Vietnam playing a key role in economic cooperation and diversifying export markets.\n",
      "\n",
      "2. Detailed Analysis :\n",
      "   - The US and China are experiencing economic decoupling, with bilateral trade declining by 11.6% in 2023 due to national security interests and US export sanctions. This decoupling is driven by the need to diversify growth sources and reduce dependence.\n",
      "   - Technologically, China aims for self-sufficiency to achieve economic and military superiority, reducing its reliance on other countries.\n",
      "   - Vietnam has become a crucial partner for the US, strengthening economic ties and helping the US diversify its export markets away from China. This alignment benefits both countries as Vietnam expands its export markets and the US gains economic advantages.\n",
      "   - Countries like Vietnam, Taiwan, Canada, Mexico, India, and South Korea have increasingly replaced China in the US market, with Vietnam and Taiwan gaining significant market share for strategic goods from 2017 to 2022.\n",
      "\n",
      "3. Citations :\n",
      "   1. vietnam-2024-outlook-report-en.pdf \n",
      "\n",
      "        \n",
      "Reflect and provide critique on the above writing of a researcher on user's requested topic. Your feedback MUST be based solely on the related context provided below and should not include general feedback or suggestions unrelated to context. Ask the partner to revise the response again based on your feedback, ensuring their research information relevant to the requested topic.  \n",
      "\n",
      "        User: \n",
      "   You are an expert chat assistance that extracts information from the CONTEXT provided between <context> and </context> tags..\n",
      "   When ansering the question contained between <question> and </question> tags be concise and do not hallucinate. \n",
      "   If you don´t have the information just say so.\n",
      "   Only anwer the question if you can extract it from the CONTEXT provideed.\n",
      "\n",
      "   Do not mention the CONTEXT used in your answer. Respond in this format:\n",
      "   1. Summary: A brief summary of the findings from the database, explicitly referencing the sources.\n",
      "   2. Detailed Analysis: An in-depth explanation based on the documents, with citations for each piece of information.\n",
      "   3. Citations: A list of all referenced sources included in the relative path of the search results.\n",
      "\n",
      "   Example Response:\n",
      "   - Summary: Key insights from the documents include X, Y, and Z (sourced from 'relative_path_to_document.pdf').\n",
      "   - Detailed Analysis: The document 'relative_path_to_document.pdf' highlights that [detailed analysis of X]. Additionally, 'another_document.pdf' explains [detailed analysis of Y]. \n",
      "   - Citations: \n",
      "      1. relative_path_to_document.pdf\n",
      "      2. another_document.pdf\n",
      "\n",
      "   <context>          \n",
      "   - *Summary*: The strategic competition between the US and China is multifaceted, involving economic, technological, and geopolitical dimensions. Vietnam plays a crucial role in this competition, particularly in economic cooperation and diversifying export markets (sourced from 'vietnam-2024-outlook-report-en.pdf').\n",
      "\n",
      "- *Detailed Analysis*:\n",
      "  - **Strategic Competition between the US and China**:\n",
      "    - The US and China are experiencing a decoupling of their economies, driven by national security interests and the need to diversify growth sources. This decoupling is evident in the decline in bilateral trade, which fell by 11.6 percent in 2023, marking the first decrease since 2019. This drop is attributed to reduced global demand and US export sanctions that restrict US firms from exporting to China ('vietnam-2024-outlook-report-en.pdf').\n",
      "    - The technological aspect of the decoupling is particularly significant. China views technological self-sufficiency as crucial for economic and military superiority. This focus on technology is an essential part of China's strategy to mitigate risks and reduce dependence on other countries ('vietnam-2024-outlook-report-en.pdf').\n",
      "\n",
      "  - **Vietnam's Role**:\n",
      "    - Vietnam has emerged as a key partner for the US in its strategic competition with China. The relationship between the US and Vietnam has strengthened, especially in economic cooperation. Vietnam is seeking to diversify its export markets and reduce its reliance on China, which aligns with the US's economic interests ('vietnam-2024-outlook-report-en.pdf').\n",
      "    - In the context of decoupling, Vietnam has seen opportunities for closer economic ties with the US. This relationship is beneficial for both countries as Vietnam looks to expand its export markets and the US recognizes the economic advantages of this partnership ('vietnam-2024-outlook-report-en.pdf').\n",
      "    - Vietnam, along with other countries like Taiwan, Canada, Mexico, India, and South Korea, has increasingly replaced China in the US market. For strategic goods, Vietnam and Taiwan have gained the largest market share in the US over the period from 2017 to 2022 ('vietnam-2024-outlook-report-en.pdf').\n",
      "\n",
      "- *Citations*:\n",
      "  1. vietnam-2024-outlook-report-en.pdf\n",
      "   </context>\n",
      "   <question>  \n",
      "   What is the strategic competition between US and China? What is Vietnam role in that competition?\n",
      "   </question>\n",
      "   Answer: \n",
      "    \n",
      "\n",
      "        \n",
      "        \n",
      "\n",
      "--------------------------------------------------------------------------------\n",
      "\u001b[33mcritic_agent\u001b[0m (to user_proxy):\n",
      "\n",
      "The response is somewhat concise but lacks specific details from the provided context, such as the significance of the 11.6 percent decline in bilateral trade and the reasons behind it. Additionally, the response includes information about other countries, which is not directly relevant to the user's query about Vietnam's role. Revise the response to focus more specifically on the economic decoupling, including the percentage drop and the reasons behind it, and provide a more detailed analysis of Vietnam's role in the US-China strategic competition, while omitting information about other countries to maintain relevance.\n",
      "\n",
      "--------------------------------------------------------------------------------\n",
      "\u001b[33muser_proxy\u001b[0m (to writer_agent):\n",
      "\n",
      "The response is somewhat concise but lacks specific details from the provided context, such as the significance of the 11.6 percent decline in bilateral trade and the reasons behind it. Additionally, the response includes information about other countries, which is not directly relevant to the user's query about Vietnam's role. Revise the response to focus more specifically on the economic decoupling, including the percentage drop and the reasons behind it, and provide a more detailed analysis of Vietnam's role in the US-China strategic competition, while omitting information about other countries to maintain relevance.\n",
      "\n",
      "--------------------------------------------------------------------------------\n",
      "\u001b[33mwriter_agent\u001b[0m (to user_proxy):\n",
      "\n",
      "1. Summary : The strategic competition between the US and China is marked by economic decoupling and a shift in trade dynamics, with Vietnam playing a significant role in diversifying US export markets.\n",
      "\n",
      "2. Detailed Analysis :\n",
      "   - **Economic Decoupling**: The US and China are undergoing economic decoupling, evident in the 11.6% decline in bilateral trade in 2023. This decrease is the first since 2019 and is driven by reduced global demand and US export sanctions that limit US firms from exporting to China. This decoupling is motivated by national security interests and the need to diversify growth sources.\n",
      "   - **Vietnam's Role**: Vietnam has emerged as a key economic partner for the US in its strategic competition with China. The strengthening relationship between the US and Vietnam is particularly notable in economic cooperation. Vietnam is actively seeking to diversify its export markets and reduce its reliance on China, which aligns with US economic interests. This partnership is mutually beneficial as Vietnam expands its export markets and the US gains economic advantages. In the context of decoupling, Vietnam has seen opportunities for closer economic ties with the US, replacing China in strategic goods markets.\n",
      "\n",
      "3. Citations :\n",
      "   1. vietnam-2024-outlook-report-en.pdf\n",
      "\n",
      "--------------------------------------------------------------------------------\n"
     ]
    },
    {
     "data": {
      "text/plain": [
       "[ChatResult(chat_id=None, chat_history=[{'content': \"\\n   You are an expert chat assistance that extracts information from the CONTEXT provided between <context> and </context> tags..\\n   When ansering the question contained between <question> and </question> tags be concise and do not hallucinate. \\n   If you don´t have the information just say so.\\n   Only anwer the question if you can extract it from the CONTEXT provideed.\\n\\n   Do not mention the CONTEXT used in your answer. Respond in this format:\\n   1. Summary: A brief summary of the findings from the database, explicitly referencing the sources.\\n   2. Detailed Analysis: An in-depth explanation based on the documents, with citations for each piece of information.\\n   3. Citations: A list of all referenced sources included in the relative path of the search results.\\n\\n   Example Response:\\n   - Summary: Key insights from the documents include X, Y, and Z (sourced from 'relative_path_to_document.pdf').\\n   - Detailed Analysis: The document 'relative_path_to_document.pdf' highlights that [detailed analysis of X]. Additionally, 'another_document.pdf' explains [detailed analysis of Y]. \\n   - Citations: \\n      1. relative_path_to_document.pdf\\n      2. another_document.pdf\\n\\n   <context>          \\n   - *Summary*: The strategic competition between the US and China is multifaceted, involving economic, technological, and geopolitical dimensions. Vietnam plays a crucial role in this competition, particularly in economic cooperation and diversifying export markets (sourced from 'vietnam-2024-outlook-report-en.pdf').\\n\\n- *Detailed Analysis*:\\n  - **Strategic Competition between the US and China**:\\n    - The US and China are experiencing a decoupling of their economies, driven by national security interests and the need to diversify growth sources. This decoupling is evident in the decline in bilateral trade, which fell by 11.6 percent in 2023, marking the first decrease since 2019. This drop is attributed to reduced global demand and US export sanctions that restrict US firms from exporting to China ('vietnam-2024-outlook-report-en.pdf').\\n    - The technological aspect of the decoupling is particularly significant. China views technological self-sufficiency as crucial for economic and military superiority. This focus on technology is an essential part of China's strategy to mitigate risks and reduce dependence on other countries ('vietnam-2024-outlook-report-en.pdf').\\n\\n  - **Vietnam's Role**:\\n    - Vietnam has emerged as a key partner for the US in its strategic competition with China. The relationship between the US and Vietnam has strengthened, especially in economic cooperation. Vietnam is seeking to diversify its export markets and reduce its reliance on China, which aligns with the US's economic interests ('vietnam-2024-outlook-report-en.pdf').\\n    - In the context of decoupling, Vietnam has seen opportunities for closer economic ties with the US. This relationship is beneficial for both countries as Vietnam looks to expand its export markets and the US recognizes the economic advantages of this partnership ('vietnam-2024-outlook-report-en.pdf').\\n    - Vietnam, along with other countries like Taiwan, Canada, Mexico, India, and South Korea, has increasingly replaced China in the US market. For strategic goods, Vietnam and Taiwan have gained the largest market share in the US over the period from 2017 to 2022 ('vietnam-2024-outlook-report-en.pdf').\\n\\n- *Citations*:\\n  1. vietnam-2024-outlook-report-en.pdf\\n   </context>\\n   <question>  \\n   What is the strategic competition between US and China? What is Vietnam role in that competition?\\n   </question>\\n   Answer: \\n   \", 'role': 'assistant', 'name': 'user_proxy'}, {'content': '1. Summary : The strategic competition between the US and China involves economic decoupling, technological self-sufficiency, and geopolitical maneuvers, with Vietnam playing a key role in economic cooperation and diversifying export markets.\\n\\n2. Detailed Analysis :\\n   - The US and China are experiencing economic decoupling, with bilateral trade declining by 11.6% in 2023 due to national security interests and US export sanctions. This decoupling is driven by the need to diversify growth sources and reduce dependence.\\n   - Technologically, China aims for self-sufficiency to achieve economic and military superiority, reducing its reliance on other countries.\\n   - Vietnam has become a crucial partner for the US, strengthening economic ties and helping the US diversify its export markets away from China. This alignment benefits both countries as Vietnam expands its export markets and the US gains economic advantages.\\n   - Countries like Vietnam, Taiwan, Canada, Mexico, India, and South Korea have increasingly replaced China in the US market, with Vietnam and Taiwan gaining significant market share for strategic goods from 2017 to 2022.\\n\\n3. Citations :\\n   1. vietnam-2024-outlook-report-en.pdf', 'role': 'user', 'name': 'writer_agent'}, {'content': \"The response is somewhat concise but lacks specific details from the provided context, such as the significance of the 11.6 percent decline in bilateral trade and the reasons behind it. Additionally, the response includes information about other countries, which is not directly relevant to the user's query about Vietnam's role. Revise the response to focus more specifically on the economic decoupling, including the percentage drop and the reasons behind it, and provide a more detailed analysis of Vietnam's role in the US-China strategic competition, while omitting information about other countries to maintain relevance.\", 'role': 'assistant', 'name': 'user_proxy'}, {'content': \"1. Summary : The strategic competition between the US and China is marked by economic decoupling and a shift in trade dynamics, with Vietnam playing a significant role in diversifying US export markets.\\n\\n2. Detailed Analysis :\\n   - **Economic Decoupling**: The US and China are undergoing economic decoupling, evident in the 11.6% decline in bilateral trade in 2023. This decrease is the first since 2019 and is driven by reduced global demand and US export sanctions that limit US firms from exporting to China. This decoupling is motivated by national security interests and the need to diversify growth sources.\\n   - **Vietnam's Role**: Vietnam has emerged as a key economic partner for the US in its strategic competition with China. The strengthening relationship between the US and Vietnam is particularly notable in economic cooperation. Vietnam is actively seeking to diversify its export markets and reduce its reliance on China, which aligns with US economic interests. This partnership is mutually beneficial as Vietnam expands its export markets and the US gains economic advantages. In the context of decoupling, Vietnam has seen opportunities for closer economic ties with the US, replacing China in strategic goods markets.\\n\\n3. Citations :\\n   1. vietnam-2024-outlook-report-en.pdf\", 'role': 'user', 'name': 'writer_agent'}], summary=\"1. Summary : The strategic competition between the US and China is marked by economic decoupling and a shift in trade dynamics, with Vietnam playing a significant role in diversifying US export markets.\\n\\n2. Detailed Analysis :\\n   - **Economic Decoupling**: The US and China are undergoing economic decoupling, evident in the 11.6% decline in bilateral trade in 2023. This decrease is the first since 2019 and is driven by reduced global demand and US export sanctions that limit US firms from exporting to China. This decoupling is motivated by national security interests and the need to diversify growth sources.\\n   - **Vietnam's Role**: Vietnam has emerged as a key economic partner for the US in its strategic competition with China. The strengthening relationship between the US and Vietnam is particularly notable in economic cooperation. Vietnam is actively seeking to diversify its export markets and reduce its reliance on China, which aligns with US economic interests. This partnership is mutually beneficial as Vietnam expands its export markets and the US gains economic advantages. In the context of decoupling, Vietnam has seen opportunities for closer economic ties with the US, replacing China in strategic goods markets.\\n\\n3. Citations :\\n   1. vietnam-2024-outlook-report-en.pdf\", cost={'usage_including_cached_inference': {'total_cost': 0.0010718999999999998, 'mistral-large-latest': {'cost': 0.0010718999999999998, 'prompt_tokens': 3004, 'completion_tokens': 569, 'total_tokens': 3573}}, 'usage_excluding_cached_inference': {'total_cost': 0.0010718999999999998, 'mistral-large-latest': {'cost': 0.0010718999999999998, 'prompt_tokens': 3004, 'completion_tokens': 569, 'total_tokens': 3573}}}, human_input=[])]"
      ]
     },
     "execution_count": 2,
     "metadata": {},
     "output_type": "execute_result"
    }
   ],
   "source": [
    "from services.search_service import search\n",
    "\n",
    "message = \"What is the strategic competition between US and China? What is Vietnam role in that competition?\"\n",
    "res = search(message=message)\n",
    "res"
   ]
  },
  {
   "cell_type": "code",
   "execution_count": null,
   "metadata": {},
   "outputs": [],
   "source": []
  },
  {
   "cell_type": "code",
   "execution_count": 4,
   "metadata": {},
   "outputs": [
    {
     "data": {
      "text/plain": [
       "'The government should intervene in the market to the extent that it balances several key factors. This includes ensuring labour rights and fair management practices, promoting technology adoption, and fostering social inclusion and equality. Additionally, the government should consider historical lessons, such as the impact of the factory system and automation on workers, to create policies that support technological advancements while protecting labour rights and promoting social welfare. This nuanced approach helps share the benefits of economic growth more equitably.'"
      ]
     },
     "execution_count": 4,
     "metadata": {},
     "output_type": "execute_result"
    }
   ],
   "source": [
    "res[-1].chat_history[-1]['content']"
   ]
  }
 ],
 "metadata": {
  "kernelspec": {
   "display_name": "env",
   "language": "python",
   "name": "python3"
  },
  "language_info": {
   "codemirror_mode": {
    "name": "ipython",
    "version": 3
   },
   "file_extension": ".py",
   "mimetype": "text/x-python",
   "name": "python",
   "nbconvert_exporter": "python",
   "pygments_lexer": "ipython3",
   "version": "3.11.5"
  }
 },
 "nbformat": 4,
 "nbformat_minor": 4
}
