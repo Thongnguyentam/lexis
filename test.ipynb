{
 "cells": [
  {
   "cell_type": "markdown",
   "metadata": {},
   "source": [
    "# SnowflakeConnector Testing Notebook"
   ]
  },
  {
   "cell_type": "code",
   "execution_count": null,
   "metadata": {},
   "outputs": [],
   "source": [
    "# Import required modules and classes\n",
    "from config import SnowflakeConfig\n",
    "import pandas as pdr"
   ]
  },
  {
   "cell_type": "code",
   "execution_count": 2,
   "metadata": {},
   "outputs": [
    {
     "name": "stdout",
     "output_type": "stream",
     "text": [
      "Connection Parameters (excluding password):\n",
      "Account: lmb53062.us-east-1\n",
      "User: STEPHANIENGUYEN\n",
      "Database: PROJECTX\n",
      "Schema: PUBLIC\n",
      "Warehouse: COMPUTE_WH\n",
      "Snowflake session created successfully!\n",
      "Successfully initialized SnowflakeConnector with search service: CC_SEARCH_SERVICE_CS\n",
      "Connector initialized successfully\n"
     ]
    }
   ],
   "source": [
    "# Initialize configuration and connector\n",
    "\n",
    "config = SnowflakeConfig(\n",
    "    database=\"PROJECTX\",\n",
    "    schema=\"PUBLIC\",\n",
    "    search_service=\"CC_SEARCH_SERVICE_CS\",\n",
    "    warehouse=\"COMPUTE_WH\",\n",
    "    stage_name=\"@docs\"\n",
    ")\n",
    "\n",
    "connector = SnowflakeConnector(config)\n",
    "print(\"Connector initialized successfully\")"
   ]
  },
  {
   "cell_type": "code",
   "execution_count": 3,
   "metadata": {},
   "outputs": [
    {
     "data": {
      "text/plain": [
       "'{\"results\":[{\"chunk\":\"informal taxation and incentives for conformity, in the extreme leading to what Acemoglu and Robinson (2019) refer to as the \\\\\\\\\\\\\"cage of norms.\\\\\\\\\\\\\" An important next step is to incorporate such adverse aspects of community relations and investigate when more favorable employment outcomes support positive community norms and when they instead abet negative or discriminatory norms.Third, our work also points towards new empirical explorations. More work is needed to investigate whether there is a causal relationship between the disappearance of attractive em ployment opportunities for workers and the retrenchment of civic life in local communities, and whether this causal effect works through the mechanisms highlighted by our framework. The evidence presented in, among others, Wilson (1996), Black, McKinnish, and Sanders (2005), and Autor, Dorn, and Hanson (2019) suggests that this is plausible, but the exact causal mech- anisms have yet to be studied empirically. For instance, it is possible that variables found to be correlated with social mobility, education, health, and other socioeconomic outcomes in these literatures may be proxying for labor market rents or how binding the outside options of differ- ent demographic groups are. Our results therefore push for empirical models where the causal effects of these variables are carefully controlled for. They also suggest new empirical tests, for example exploring whether exogenous declines in wages in an areaholding constant other aspects of\",\"relative_path\":\"Employment and Community - Socioeconomic Cooperation and Its Breakdown.pdf\",\"category\":\"Document\"},{\"chunk\":\"However, further increases in M raise total welfare, as this benefits managers and has no effect on workers.Proposition @2 shows that improving outside options shifts the equilibrium employment regime from soft or tough-but-fair to tough (in addition to reducing payoffs within each type of equilibrium). The intuition is that improving outside options reduces community benefits, which in turn makes it more difficult to dissuade managers from adopting the tough regime. This finding and intuition are consistent with the evidence in Amore, Bennedsen, and Larsen (2022), discussed in the Introduction: Danish firms with locally-residing CEOs and with CEOs whose children attend the same school as those of employees, have higher employee satisfaction. The Anchor Hocking case from the Introduction is also consistent with this result: Alexander (2017) reports that many Lancaster residents believed that the venture capitalist Newell, who later took over the company, instructed managers not to live in Lancasterbecause they would not adopt painful cost-cutting measures if they were heavily involved in the communityFinally, Proposition @3 establishes that polarizing outside options in favor of managers reduces total welfare, when managers exert less community effort than workers. This form of polarization can capture societal changes that push rich and poor individuals to segregate in distinct neighborhoods, where the rich neighborhoods are more desirable. The logic of this result is that, when B\",\"category\":\"Document\",\"relative_path\":\"Employment and Community - Socioeconomic Cooperation and Its Breakdown.pdf\"},{\"chunk\":\"by 2019, before the pandemic, this share had fallen to less than 70%. The GSS also indicates that the share of Americans with no membership in any non-religious civid association increased from around 35% in the early 1980s to over 45% in 2004while the share of Americans who said that most people can be trusted dropped precipitously from around 40% in 1975 to just above 20% in 2022]3 These weakening civic ties are reflected in how much Americans appear to be willing to make sacrifices for the good of others as measured by blood donations per capita, which have declined from the early 1990s by about one third (Wallace et al.1998] Free et al.2023). Other measures of the health of American communities are also in decline: the fraction of out-of-wedlock births and single-parent households have increased (Kearney2023), \\\\\\\\\\\\\"deaths of despair\\\\\\\\\\\\\" have risen (Case and Deaton2020), and various dimensions of civic-mindedness and trust have declined (Rainie and Perrin 2019). The same period has also witnessed changes in the internal organization and management strategies of firms, with evidence suggesting both a shift toward less worker-friendly management practices (Stansbury and Summers2020] Acemoglu, He, and Maire2023) and more intensive worker monitoring (Gordon[1996)The experiences of several US communities can illustrate these patterns and give us clues about the underlying mechanisms. The meat-processing company Hormel, mentioned in the opening quote, was a mainstay of the town of Austin,\",\"category\":\"Document\",\"relative_path\":\"Employment and Community - Socioeconomic Cooperation and Its Breakdown.pdf\"}],\"request_id\":\"e1c3a8e8-d6b7-44b7-b6fb-a4f8c33296d5\"}'"
      ]
     },
     "execution_count": 3,
     "metadata": {},
     "output_type": "execute_result"
    }
   ],
   "source": [
    "res = connector.get_similar_chunks_search_service(query=\"Why do people resist switching to alternative opportunities when their current livelihood becomes unsustainable?\", num_chunks=3)\n",
    "res"
   ]
  },
  {
   "cell_type": "code",
   "execution_count": 19,
   "metadata": {},
   "outputs": [
    {
     "name": "stdout",
     "output_type": "stream",
     "text": [
      "name='docs/Employment and Community - Socioeconomic Cooperation and Its Breakdown.pdf' size='417598' md5='67c5e9441f90342dec4b80fef92f148d' last_modified='Mon, 20 Jan 2025 21:15:52 GMT'\n",
      "name='docs/Help_for_the_Heartland_20240815.pdf' size='9707566' md5='262dcba9373b9091c94a03f7a9358e69-2' last_modified='Mon, 20 Jan 2025 21:15:53 GMT'\n",
      "name='docs/Learning from Ricardo and Thompson - Machinery and Labor in the Early Industrial Revolution - and in the Age of AI.pdf' size='346719' md5='dae373a77eaad42296bad5bd0c5a65bd' last_modified='Mon, 20 Jan 2025 21:15:52 GMT'\n",
      "name='docs/Mistrust, Misperception, and Misunderstanding - Imperfect Information and Conflict Dynamics.pdf' size='971967' md5='a5631684bb0377e26c7d2d67f88daa4e' last_modified='Mon, 20 Jan 2025 21:15:52 GMT'\n",
      "name='docs/Tasks at Work - Comparative Advantage, Technology and Labor Demand.pdf' size='5511832' md5='88092466e50d87ccc480ed43e5f2fe9c-2' last_modified='Mon, 20 Jan 2025 21:15:54 GMT'\n",
      "name='docs/The Simple Macroeconomics of AI.pdf' size='1678548' md5='b3dff62be04088563c6701976a9b8205' last_modified='Mon, 20 Jan 2025 21:15:53 GMT'\n",
      "name='docs/capital and wages.pdf' size='259990' md5='164c97a1dcb698323ec126f934e3d838' last_modified='Mon, 20 Jan 2025 21:15:52 GMT'\n"
     ]
    }
   ],
   "source": [
    "for item in connector.root.databases[\"PROJECTX\"].schemas[\"PUBLIC\"].stages[\"docs\"].list_files():\n",
    "    print(item)"
   ]
  },
  {
   "cell_type": "code",
   "execution_count": null,
   "metadata": {},
   "outputs": [],
   "source": [
    "from utils.snowflake_upload import upload_to_stage\n",
    "\n",
    "\n",
    "upload_to_stage()"
   ]
  },
  {
   "cell_type": "markdown",
   "metadata": {},
   "source": [
    "# Test chat"
   ]
  },
  {
   "cell_type": "code",
   "execution_count": null,
   "metadata": {},
   "outputs": [
    {
     "name": "stderr",
     "output_type": "stream",
     "text": [
      "c:\\Users\\tnguy\\hackathon\\projectx\\env\\Lib\\site-packages\\tqdm\\auto.py:21: TqdmWarning: IProgress not found. Please update jupyter and ipywidgets. See https://ipywidgets.readthedocs.io/en/stable/user_install.html\n",
      "  from .autonotebook import tqdm as notebook_tqdm\n"
     ]
    }
   ],
   "source": [
    "# #agents initialization\n",
    "# from assistance.user_proxy import IntentClassifier, UserProxy\n",
    "# from assistance.web_search_agent import WebSearchAgent\n",
    "# from assistance.writer_agent import WriterAgent\n",
    "# from assistance.critics_agent import CriticAgent\n",
    "# from assistance.documents_reading_agent import DocumentReadingAgent\n",
    "# from services.search_service import create_prompt, create_web_search_prompt, generate_request_to_recipient, reflection_message\n",
    "\n",
    "\n",
    "# def search(message: str):\n",
    "#     #agents initialization\n",
    "#     user_proxy = UserProxy()\n",
    "#     web_search_agent = WebSearchAgent()\n",
    "#     writer_agent = WriterAgent()\n",
    "#     critic_agent = CriticAgent()\n",
    "#     document_reading_agent = DocumentReadingAgent()\n",
    "#     web_search_intent = IntentClassifier()\n",
    "\n",
    "#     # Sequential chat configuration\n",
    "#     user_proxy.register_nested_chats(\n",
    "#         chat_queue= [\n",
    "#             {\n",
    "#                 \"recipient\": critic_agent, \n",
    "#                 \"clear_history\": True,\n",
    "#                 \"message\": reflection_message,\n",
    "#                 \"summary_method\": \"last_msg\", \n",
    "#                 \"max_turns\": 1\n",
    "#             }\n",
    "#             ],\n",
    "#         trigger=writer_agent\n",
    "#     )\n",
    "    \n",
    "#     res = document_reading_agent.get_relevant_information(message=message)\n",
    "#     search_res = res['content'] \n",
    "#     print(\"search_res:\", search_res)\n",
    "#     web_search_prompt = create_web_search_prompt(search_res=search_res, message=message)\n",
    "\n",
    "#     is_search = web_search_intent.classify(web_search_prompt)\n",
    "#     print(\"is_search: \", is_search)\n",
    "#     is_search = is_search['content']\n",
    "   "
   ]
  },
  {
   "cell_type": "code",
   "execution_count": null,
   "metadata": {},
   "outputs": [
    {
     "name": "stdout",
     "output_type": "stream",
     "text": [
      "Connection Parameters (excluding password):\n",
      "Account: lmb53062.us-east-1\n",
      "User: STEPHANIENGUYEN\n",
      "Database: PROJECTX\n",
      "Schema: PUBLIC\n",
      "Warehouse: COMPUTE_WH\n",
      "Snowflake session created successfully!\n",
      "Successfully initialized SnowflakeConnector with search service: CC_SEARCH_SERVICE_CS\n",
      "search_result [{'chunk': '61-103. KATZ,LAWRENCE F AND KEVIN M MURPHY (1992): \\\\\"Changes in Relative Wages,1963-1987: Supply and Demand factors,\\\\\" The Quarterly Journal of Economics, 107, 35-78. KIKUCHI, SHINNOsUKE (2024): \\\\\"Automation, Fragmentation, and Changes in Comparative Ad- vantage,\\\\\" Tech. rep. KIM, RYAN AND JoNATHAN VoGEL (2021): \\\\\"Trade Shocks and Labor Market Adjustment,\\\\\" American Economic Review: Insights, 3, 115-30. KLENOW,PETER J. AND ANDREs RODRiGUEz-CLARE (1997):\\\\\"The Neoclassical Revival in Growth Economics: Has It Gone Too Far?\\\\\" NBER Macroeconomics Annual, 12, 73-103 KRUSELL, PER, LEE E. OHANIAN, JOSE-ViCTOR RiOS-RULL, AND GIOVANNI L. VIOLANTE (2000): \\\\\"Capital-Skill Complementarity and Inequality: A Macroeconomic Analysis,\\\\\" Econo- metrica, 68, 1029-1053. LIN, JEFFREY (2011): \\\\\"Technological Adaptation, Cities, and New Work,\\\\\" The Review of Eco- nomics and Statistics, 93, 23. LIND, NELSON AND NATALIA RAMONDO (2023): \\\\\"Trade with Correlation,\\\\\" American Economic Review, 113, 317-53. MoLL, BENJAMIN, LUKASz RACHEL, AND PASCUAL RESTREPO (2022): \\\\\"Uneven Growth: Au- tomation\\'s Impact on Income and Wealth Inequality,\\\\\" Econometrica, 90, 2645-2683 NAKAMURA,HIDEKI AND JoSEPH ZEIRA (2024): \\\\\"Automation and unemployment: help is on the way,\\\\\" Journal of Economic Growth, 29, 215-250. NGAI, L. RACHEL AND CHRISTOPHER A. PISSARIDES (2007): \\\\\"Structural Change in a Multi- sector Model of Growth,\\\\\" American Economic Review, 97, 429-443 OBERFIELD, EzRA AND DEVESH RAVAL (2020):\\\\\"Micro Data and Macro', 'relative_path': 'Tasks at Work - Comparative Advantage, Technology and Labor Demand.pdf', 'category': 'Document'}, {'chunk': 'Journal of Economic Growth, 29, 215-250. NGAI, L. RACHEL AND CHRISTOPHER A. PISSARIDES (2007): \\\\\"Structural Change in a Multi- sector Model of Growth,\\\\\" American Economic Review, 97, 429-443 OBERFIELD, EzRA AND DEVESH RAVAL (2020):\\\\\"Micro Data and Macro Technology,\\\\\" Econo- metrica. PERETTO, PIETRO F. AND JOHN J. SEATER (2013): \\\\\"Factor-eliminating technical change,\\\\\" Journal of Monetary Economics, 60, 459-473. REsTREPO, PAsCUAL (2024): \\\\\"Automation: Theory, Evidence, and Outlook,\\\\\" Annual Review of Economics.  \\\\nRoDRiGUEz-CLARE, ANDREs (2010): \\\\\"Offshoring in a Ricardian World,\\\\\" American Economic Journal: Macroeconomics, 2, 227-258. SATTINGER, MICHAEL (1975): \\\\\"Comparative Advantage and the Distributions of Earnings and Abilities,\\\\\" Econometrica, 43, 455. SIMON, HERBERT ALEXANDER (1965): The shape of automation for men and management, vol. 13, Harper & Row New York. TEULINGs, CoEN N. (1995): \\\\\"The Wage Distribution in a Model of the Assignment of Skills to Jobs,\\\\\" Journal of Political Economy, 103, 280-315. (2005): \\\\\"Comparative Advantage, Relative Wages, and the Accumulation of Human Cap- ital,\\\\\" Journal of Political Economy, 113, 425-461. ZEIRA, JosEPH (1998): \\\\\"Workers, Machines, and Economic Growth,\\\\\" The Quarterly Journal of Economics, 113, 1091-1117. ZuLETA, HERNANDO (2008): \\\\\"Factor saving innovations and factor income shares,\\\\\" Reuiew of Economic Dynamics, 11, 836-851.  \\\\n: Postgraduate 940z-0861 \\'snpe ded payuom sinoy (6oi) u! a6ue College 60% 9102-0861\\'so6em unoy (6ol) u!', 'relative_path': 'Tasks at Work - Comparative Advantage, Technology and Labor Demand.pdf', 'category': 'Document'}, {'chunk': \"and J. I. Vizcaino (2022). Skill-biased structural change', The Review of Economic Studies, 89, 592-625. Bursztyn, L., B. R. Handel, R. Jimenez and C. Roth (2023). 'When product markets become collective traps: the case of social media', Technical Report, National Bureau of Economic Research Working Paper No. 31771, Cambridge, USA Chui, M., E. Hazan, R. Roberts, A. Singla, K. Smaje, A. Sukharevsky, L. Yee and R. Zemmel (2023). The economic potential of generative AI: the next productivity frontier', McKinsey & Company. https://www.mckinsey.com/capabilities/mckinsey-digital/our-insights/the-eco nomic-potential-of-generative-AI-the-next-productivity-frontier#business-value (accessed 12 May 2024).DARON ACEMOGLU  \\\\nDavidson, T. (2021). Could advanced AI drive explosive economic growth?', Open Philanthropy. https://www.openphilanthropy.org/research/could-advanced-ai-drive-explosive-cconomic- growth/ (accessed 12 May 2024). Eloundou, T., S. Manning, P. Mishkin and D. Rock (2024). GPTs are GPTs: Labor market im- pact potential of LLMs, Science, 384, 1306-8. Elsby, M. W., B. Hobijn and A. $ahin (2013). The decline of the US labor share', Brookings Papers on Economic Activity, 2013, 163. Friedman, J. H. (2001) Greedy function approximation: a gradient boosting machine', Annals of Statistics, 29(5), 1189-232. Goldman Sachs (2023). Generative AI could raise global GDP by 7 percent'. https://www.gold mansachs.com/intelligence/pages/ generative-ai-could-raise-global-gdp-by-7-percent.html (accessed\", 'relative_path': 'The Simple Macroeconomics of AI.pdf', 'category': 'Document'}]\n",
      "search_res: \n",
      "is_search:  yes\n",
      "\u001b[34m\n",
      "********************************************************************************\u001b[0m\n",
      "\u001b[34mStarting a new chat....\u001b[0m\n",
      "\u001b[34m\n",
      "********************************************************************************\u001b[0m\n",
      "\u001b[33muser_proxy\u001b[0m (to web_search_agent):\n",
      "\n",
      "Find me an article about clime change\n",
      "\n",
      "--------------------------------------------------------------------------------\n",
      "\u001b[33mweb_search_agent\u001b[0m (to user_proxy):\n",
      "\n",
      "\n",
      "\u001b[32m***** Suggested tool call (SGSE8ok3x): search_internet *****\u001b[0m\n",
      "Arguments: \n",
      "{\"max_results\": 3, \"query\": \"article about climate change\"}\n",
      "\u001b[32m************************************************************\u001b[0m\n",
      "\n",
      "--------------------------------------------------------------------------------\n",
      "\u001b[35m\n",
      ">>>>>>>> EXECUTING FUNCTION search_internet...\u001b[0m\n",
      "{'User-Agent': 'Mozilla/5.0 (Macintosh; Intel Mac OS X 10_15_7) AppleWebKit/537.36 (KHTML, like Gecko) Chrome/108.0.0.0 Safari/537.36', 'Accept': 'text/html,application/xhtml+xml,application/xml;q=0.9,image/webp,*/*;q=0.8', 'Accept-Language': 'en-US,en;q=0.5', 'Accept-Encoding': 'gzip, deflate, br', 'Connection': 'keep-alive', 'Upgrade-Insecure-Requests': '1', 'Cache-Control': 'max-age=0', 'Referer': 'https://www.google.com/', 'content-type': 'application/json; charset=utf-8'}\n",
      "\u001b[33muser_proxy\u001b[0m (to web_search_agent):\n",
      "\n",
      "\u001b[32m***** Response from calling tool (SGSE8ok3x) *****\u001b[0m\n",
      "[{\"url\": \"https://science.nasa.gov/climate-change/what-is-climate-change/\", \"title\": \"What Is Climate Change? - NASA Science\", \"content\": {\"headers\": [{\"level\": \"h1\", \"text\": \"What Is Climate Change?\"}, {\"level\": \"h2\", \"text\": \"What Is Global Warming?\"}, {\"level\": \"h2\", \"text\": \"Weather vs. Climate\"}, {\"level\": \"h2\", \"text\": \"“If you don’t like the weather in New England, just wait a few minutes.” <br>- Mark Twain\"}, {\"level\": \"h3\", \"text\": \"Find Out More: A Guide to NASA’s Global Climate Change Website\"}, {\"level\": \"h3\", \"text\": \"Other NASA Resources\"}, {\"level\": \"h2\", \"text\": \"Discover More Topics From NASA\"}, {\"level\": \"h3\", \"text\": \"Earth Science in Action\"}], \"paragraphs\": [\"Climate change is a long-term change in the average weather patterns that have come to define Earth’s local, regional and global climates. These changes have a broad range of observed effects that are synonymous with the term.\", \"Changes observed in Earth’s climate since the mid-20th century are driven by human activities, particularly fossil fuel burning, which increases heat-trapping greenhouse gas levels in Earth’s atmosphere, raising Earth’s average surface temperature. Natural processes, which have been overwhelmed by human activities, can also contribute to climate change, including internal variability (e.g., cyclical ocean patterns like El Niño, La Niña and the Pacific Decadal Oscillation) and external forcings (e.g., volcanic activity, changes in the Sun’s energy output, variations in Earth’s orbit).\", \"Scientists use observations from the ground, air, and space, along with computer models, to monitor and study past, present, and future climate change. Climate data records provide evidence of climate change key indicators, such as global land and ocean temperature increases; rising sea levels; ice loss at Earth’s poles and in mountain glaciers; frequency and severity changes in extreme weather such as hurricanes, heatwaves, wildfires, droughts, floods, and precipitation; and cloud and vegetation cover changes.\", \"“Climate change” and “global warming” are often used interchangeably but have distinct meanings. Similarly, the terms “weather” and “climate” are sometimes confused, though they refer to events with broadly different spatial- and timescales.\", \"Global warming is the long-term heating of Earth’s surface observed since the pre-industrial period (between 1850 and 1900) due to human activities, primarily fossil fuel burning, which increases heat-trapping greenhouse gas levels in Earth’s atmosphere. This term is not interchangeable with the term “climate change.”\", \"Since the pre-industrial period, human activities are estimated to have increased Earth’s global average temperature by about 1 degree Celsius (1.8 degrees Fahrenheit), a number that is currently increasing by more than 0.2 degrees Celsius (0.36 degrees Fahrenheit) per decade. The current warming trend is unequivocally the result of human activity since the 1950s and is proceeding at an unprecedented rate over millennia.\", \"Weather refers to atmospheric conditions that occur locally over short periods of time—from minutes to hours or days. Familiar examples include rain, snow, clouds, winds, floods, or thunderstorms.\", \"Climate, on the other hand, refers to the long-term (usually at least 30 years) regional or even global average of temperature, humidity, and rainfall patterns over seasons, years, or decades.\", \"This website provides a high-level overview of some of the known causes, effects and indications of global climate change:\", \"Evidence. Brief descriptions of some of the key scientific observations that our planet is undergoing abrupt climate change.\", \"Causes. A concise discussion of the primary climate change causes on our planet.\", \"Effects. A look at some of the likely future effects of climate change, including U.S. regional effects.\", \"Vital Signs. Graphs and animated time series showing real-time climate change data, including atmospheric carbon dioxide, global temperature, sea ice extent, and ice sheet volume.\", \"Earth Minute. This fun video series explains various Earth science topics, including some climate change topics.\", \"Goddard Scientific Visualization Studio. An extensive collection of animated climate change and Earth science visualizations.\", \"Sea Level Change Portal. NASA’s portal for an in-depth look at the science behind sea level change.\", \"NASA’s Earth Observatory. Satellite imagery, feature articles and scientific information about our home planet, with a focus on Earth’s climate and environmental change.\", \"Header image is of Apusiaajik Glacier, and was taken near Kulusuk, Greenland, on Aug. 26, 2018, during NASA’s Oceans Melting Greenland (OMG) field operations. Learn more here. Credit: NASA/JPL-Caltech\", \"Explore Earth Science\", \"NASA's unique vantage point helps us inform solutions to enhance decision-making, improve livelihoods, and protect our planet.\"], \"lists\": [{\"type\": \"ol\", \"context\": \"La NASA lleva un dron y un rover espacial a un espectáculo aéreo\", \"items\": [\"…\", \"Climate Change\", \"What Is Climate Change?\"]}, {\"type\": \"ul\", \"context\": \"La NASA lleva un dron y un rover espacial a un espectáculo aéreo\", \"items\": [\"Climate Change\", \"FactsEvidenceCausesEffectsScientific ConsensusWhat is Climate Change?Extreme WeatherQuestions (FAQ)\", \"Evidence\", \"Causes\", \"Effects\", \"Scientific Consensus\", \"What is Climate Change?\", \"Extreme Weather\", \"Questions (FAQ)\", \"Vital SignsCarbon DioxideGlobal TemperatureMethaneArctic Sea Ice Minimum ExtentIce SheetsSea LevelOcean Warming\", \"Carbon Dioxide\", \"Global Temperature\", \"Methane\", \"Arctic Sea Ice Minimum Extent\", \"Ice Sheets\", \"Sea Level\", \"Ocean Warming\", \"Mitigation and AdaptationMitigation and AdaptationSustainability and Government Resources\", \"Mitigation and Adaptation\", \"Sustainability and Government Resources\", \"StoriesNews ListSubscribeAsk NASA Climate\", \"News List\", \"Subscribe\", \"Ask NASA Climate\", \"MoreMultimediaClimate InteractivesClimate KidsFeedback\", \"Multimedia\", \"Climate Interactives\", \"Climate Kids\", \"Feedback\", \"MoreEyes on the Earth\", \"Eyes on the Earth\"]}, {\"type\": \"ul\", \"context\": \"La NASA lleva un dron y un rover espacial a un espectáculo aéreo\", \"items\": [\"Evidence\", \"Causes\", \"Effects\", \"Scientific Consensus\", \"What is Climate Change?\", \"Extreme Weather\", \"Questions (FAQ)\"]}, {\"type\": \"ul\", \"context\": \"La NASA lleva un dron y un rover espacial a un espectáculo aéreo\", \"items\": [\"Carbon Dioxide\", \"Global Temperature\", \"Methane\", \"Arctic Sea Ice Minimum Extent\", \"Ice Sheets\", \"Sea Level\", \"Ocean Warming\"]}, {\"type\": \"ul\", \"context\": \"La NASA lleva un dron y un rover espacial a un espectáculo aéreo\", \"items\": [\"Mitigation and Adaptation\", \"Sustainability and Government Resources\"]}, {\"type\": \"ul\", \"context\": \"La NASA lleva un dron y un rover espacial a un espectáculo aéreo\", \"items\": [\"News List\", \"Subscribe\", \"Ask NASA Climate\"]}, {\"type\": \"ul\", \"context\": \"La NASA lleva un dron y un rover espacial a un espectáculo aéreo\", \"items\": [\"Multimedia\", \"Climate Interactives\", \"Climate Kids\", \"Feedback\"]}, {\"type\": \"ul\", \"context\": \"La NASA lleva un dron y un rover espacial a un espectáculo aéreo\", \"items\": [\"Eyes on the Earth\"]}], \"tables\": []}}, {\"url\": \"https://www.cnn.com/2024/02/08/climate/global-warming-limit-climate-intl/index.html\", \"title\": \"Climate change: The world just marked a year above a critical limit of 1.5 degrees scientists have warned about | CNN\", \"content\": {\"headers\": [{\"level\": \"h3\", \"text\": \"Story highlights\"}], \"paragraphs\": [\"Heat records on land and sea have tumbled over the past year\", \"Climate crisis driven primarily by humans burning coal, oil and gas\", \"Average global sea surface temperature for January was hottest on record\", \"Extreme weather events supercharged by El Niño, scientists say\", \"Global warming surpassed 1.5 degrees Celsius over the past 12 months for the first time on record, new data shows, breaching a critical threshold that, if it continues, will push the limits of life on Earth to adapt.\", \"The past year was 1.52 degrees hotter on average than temperatures before industrialization, according to data from Copernicus, the European Union’s climate and weather monitoring service. That 12-month average was boosted by the hottest January on record, which was 1.66 degrees warmer than the average January temperature in pre-industrial times.\", \"Keeping global warming below 2 degrees, but preferably 1.5, was the centerpiece goal of the Paris Agreement, which most of the world’s nations signed onto in 2015.\", \"Scientists are more concerned with ﻿multi-year warming above these thresholds, but the 12-month record shows the world is fast approaching the Paris Agreement’s limits.\", \"Matt Patterson, a postdoctoral research assistant in atmospheric physics at the University of Oxford, said the record was a “significant milestone,” but didn’t mean the Paris Agreement had failed.\", \"Related article\\nThe 1.5-degree climate goal may be ‘deader than a doornail,’ and scientists are bitterly divided over it\", \"“However, exceeding 1.5C in one year underlines the rapidly shrinking window of time humanity has to make deep emissions cuts and avoid dangerous climate change.”\", \"Heat records on land and sea have tumbled over the past year. The last eight months in a row have been the hottest such months on record, Copernicus said, while 2023 was the hottest calendar year.\", \"The average global sea surface temperature for January was also the hottest on record for that month by a large margin: 0.26 degrees warmer than the previous record, set in 2016.\", \"“2024 starts with another record-breaking month – not only is it the warmest January on record but we have also just experienced a 12-month period of more than 1.5°C above the pre-industrial reference period,” Copernicus Deputy Director Samantha Burgess said in a statement. “Rapid reductions in greenhouse gas emissions are the only way to stop global temperatures increasing.”\", \"The climate crisis is driven primarily from humans burning coal, oil and gas for energy. El Niño, a natural climate pattern that originates in the Pacific Ocean, has also boosted temperatures in much of the world in recent months.\", \"Extreme weather events already made more frequent and severe by long-term global warming are now being supercharged by El Niño, scientists say. The combination of the two has proved particularly destructive.\", \"More than 160 wildfires that spread over an area of Chile this week have killed more than 120 people and reduced entire neighborhoods to ashes, making them the deadliest blazes in the country’s recent history.\", \"The twin threat also supercharged the California storms this week, scientists said, enhancing rainfall and boosting the storm’s destructive power.\"], \"lists\": [], \"tables\": []}}, {\"url\": \"https://www.bbc.com/news/science-environment-24021772\", \"title\": \"What is climate change? A really simple guide - BBC News\", \"content\": {\"headers\": [{\"level\": \"h1\", \"text\": \"What is climate change? A really simple guide\"}, {\"level\": \"h2\", \"text\": \"What is climate change?\"}, {\"level\": \"h2\", \"text\": \"How are humans causing climate change?\"}, {\"level\": \"h2\", \"text\": \"What effects of climate change have already been seen?\"}, {\"level\": \"h2\", \"text\": \"Why does 1.5C matter and how will future climate change affect the world?\"}, {\"level\": \"h2\", \"text\": \"What are governments doing about climate change?\"}, {\"level\": \"h2\", \"text\": \"What can individuals do about climate change?\"}, {\"level\": \"h2\", \"text\": \"Related topics\"}], \"paragraphs\": [\"Human activities are causing world temperatures to rise, posing serious threats to people and nature.\", \"Things are likely to worsen in the coming decades, but scientists argue urgent action can still limit the worst effects of climate change.\", \"Climate change is the long-term shift in the Earth's average temperatures and weather conditions.\", \"The world has been warming up quickly over the past 100 years or so. As a result, weather patterns are changing.\", \"Between 2015 and 2024, global temperatures were on average around 1.28C above those of the late 19th Century, according to the European Copernicus climate service, external.\", \"Since the 1980s, each decade has been warmer than the previous one, the UK Met Office says.\", \"The year 2024 was the world's hottest on record, with climate change mainly responsible for the high temperatures.\", \"It was also the first calendar year to surpass 1.5C of warming compared to pre-industrial levels, according to Copernicus.\", \"The climate has changed naturally throughout the Earth's history.\", \"But natural causes cannot explain the particularly rapid warming seen over the last century, according to the UN's climate body, the Intergovernmental Panel on Climate Change (IPCC).\", \"This has been caused by human activities, in particular the widespread use of fossil fuels - coal, oil and gas - in homes, factories and transport systems.\", \"When fossil fuels burn, they release greenhouse gases - mostly carbon dioxide (CO2). This CO2 acts like a blanket, trapping extra energy in the atmosphere near the Earth's surface. This causes the planet to heat up.\", \"Since the start of the Industrial Revolution - when humans started burning large amounts of fossil fuels - the amount of CO2 in the atmosphere has risen by about 50%, external, far above levels seen in the Earth's recent history.\", \"The CO2 released from burning fossil fuels, external has a distinctive chemical fingerprint. This matches the type of CO2 increasingly found in the atmosphere.\", \"Climate change has already had a huge effect on the environment, including:\", \"more frequent and intense extreme weather, such as heatwaves and heavy rainfall\", \"rapid melting of glaciers and ice sheets, contributing to sea-level rise\", \"huge declines in Arctic sea-ice\", \"warmer oceans, which can fuel more intense storms and hurricanes and damage wildlife such as coral reefs\", \"These changes are already having serious consequences for people and economies around the world.\", \"For example, Hurricanes Helene and Milton - which hit parts of the US in September and October 2024 - could each end up costing at least $50bn (£40bn), external, according to provisional estimates.\", \"More than 200 people were killed by Helene, and at least 16 by Milton.\", \"The winds and rain from both storms were worsened by climate change, according to scientists at the World Weather Attribution (WWA) group.\", \"Back in 2022, parts of East Africa suffered their worst drought for 40 years, putting more than 20 million people at risk of severe hunger.\", \"Climate change has made droughts like this at least 100 times more likely, the WWA says.\", \"The particular vulnerabilities of individual communities across the globe determine who is affected by these extreme events, and how badly.\", \"The more the world warms, the worse the impacts of climate change become.\", \"Limiting long-term average temperature rises to 1.5C is seen as particularly important.\", \"In a landmark agreement signed in Paris in 2015, almost 200 countries pledged to try to curb global warming to that amount. The reference to 1.5C is generally understood to mean a 20-year average, rather than an increase seen in any single year.\", \"The science is not completely certain, but according to the UN, the consequences of 2C global warming versus 1.5C could include, external:\", \"extreme hot days could become on average 4C warmer at mid-latitudes (regions outside the poles and tropics), versus 3C at 1.5C\", \"sea-level rise could be around 0.1m higher than at 1.5C, exposing up to 10 million more people to events including more frequent flooding\", \"more than 99% of coral reefs could be lost, compared with 70-90% at 1.5C\", \"twice the number of plants and vertebrates (animals with a backbone) could be exposed to unsuitable climate conditions across more than half their geographical area\", \"several hundred million more people may be exposed to climate-related risks and susceptible to poverty by 2050 than at 1.5C.\", \"The call to restrict temperature rise to 1.5C was partly designed to avoid crossing so-called \\\"tipping points\\\".\", \"It is not clear exactly where they sit, but once these thresholds are passed, changes could accelerate and become irreversible, such as the collapse of the Greenland Ice Sheet.\", \"The Earth's poles are especially vulnerable to rising temperatures\", \"About 3.3 to 3.6 billion people are highly vulnerable to climate change, according to the IPCC.\", \"People living in poorer countries are expected to suffer most as they have fewer resources to adapt.\", \"This has led to questions about fairness, because these places have typically only been responsible for a small percentage of greenhouse gas emissions, external.\", \"However, knock-on impacts could be felt over wide areas. For example, crop failures linked to extreme weather could raise global food prices.\", \"To help keep global warming to the 1.5C limit agreed in Paris in 2015, CO2 emissions need to be \\\"net zero\\\" by 2050, the UN says.\", \"This means reducing greenhouse gas emissions as much as possible, and actively removing any remaining emissions from the atmosphere.\", \"Most countries have, or are considering, net zero targets, external.\", \"However, greenhouse gas levels are still rising quickly and the world is \\\"likely\\\" to warm beyond 1.5C, the IPCC says.\", \"However, there has been progress in some areas, such as the growth of renewable energy and electric vehicles.\", \"World leaders meet every year to discuss their climate commitments.\", \"At the most recent COP29 summit in November 2024, richer countries committed to giving developing nations at least $300bn (about £240bn) a year by 2035 to help them tackle climate change.\", \"However, this is far less than the amount poorer countries say they need.\", \"Many countries had also hoped that the deal struck in 2023 to \\\"transition away from fossil fuels in energy systems\\\" would be strengthened, but that did not happen.\", \"Five takeaways from a dramatic COP29\", \"Major changes need to come from governments and businesses, but individuals can also help through actions like:\", \"improving their home's insulation and energy efficiency\", \"switching to electric vehicles or living car-free\", \"replacing gas central heating with electric systems like heat pumps\"], \"lists\": [{\"type\": \"ul\", \"context\": \"What is climate change? A really simple guide\", \"items\": [\"Published10 January\"]}, {\"type\": \"ul\", \"context\": \"What is climate change? A really simple guide\", \"items\": [\"COP29\"]}, {\"type\": \"ul\", \"context\": \"What effects of climate change have already been seen?\", \"items\": [\"more frequent and intense extreme weather, such as heatwaves and heavy rainfall\", \"rapid melting of glaciers and ice sheets, contributing to sea-level rise\", \"huge declines in Arctic sea-ice\", \"warmer oceans, which can fuel more intense storms and hurricanes and damage wildlife such as coral reefs\"]}, {\"type\": \"ul\", \"context\": \"Why does 1.5C matter and how will future climate change affect the world?\", \"items\": [\"extreme hot days could become on average 4C warmer at mid-latitudes (regions outside the poles and tropics), versus 3C at 1.5C\", \"sea-level rise could be around 0.1m higher than at 1.5C, exposing up to 10 million more people to events including more frequent flooding\", \"more than 99% of coral reefs could be lost, compared with 70-90% at 1.5C\", \"twice the number of plants and vertebrates (animals with a backbone) could be exposed to unsuitable climate conditions across more than half their geographical area\", \"several hundred million more people may be exposed to climate-related risks and susceptible to poverty by 2050 than at 1.5C.\"]}, {\"type\": \"ul\", \"context\": \"What are governments doing about climate change?\", \"items\": [\"Five takeaways from a dramatic COP29\"]}, {\"type\": \"ul\", \"context\": \"What can individuals do about climate change?\", \"items\": [\"taking fewer flights\", \"using less energy\", \"improving their home's insulation and energy efficiency\", \"switching to electric vehicles or living car-free\", \"replacing gas central heating with electric systems like heat pumps\", \"eating less red meat\"]}, {\"type\": \"ul\", \"context\": \"Related topics\", \"items\": [\"Greenhouse gas emissions\", \"COP29\", \"Our Planet Now\", \"Carbon dioxide\", \"Extinction\", \"Intergovernmental Panel on Climate Change\", \"Effects of global warming\", \"COP28\", \"Paris climate agreement\", \"Climate\", \"Environment\", \"Net zero\"]}], \"tables\": []}}]\n",
      "\u001b[32m**************************************************\u001b[0m\n",
      "\n",
      "--------------------------------------------------------------------------------\n"
     ]
    },
    {
     "ename": "ValidationError",
     "evalue": "1 validation error for ChatCompletionMessage\ncontent\n  Input should be a valid string [type=string_type, input_value=[TextChunk(text=\"### Summ...(text='.', type='text')], input_type=list]\n    For further information visit https://errors.pydantic.dev/2.10/v/string_type",
     "output_type": "error",
     "traceback": [
      "\u001b[1;31m---------------------------------------------------------------------------\u001b[0m",
      "\u001b[1;31mValidationError\u001b[0m                           Traceback (most recent call last)",
      "Cell \u001b[1;32mIn[2], line 5\u001b[0m\n\u001b[0;32m      1\u001b[0m \u001b[38;5;28;01mfrom\u001b[39;00m\u001b[38;5;250m \u001b[39m\u001b[38;5;21;01mservices\u001b[39;00m\u001b[38;5;21;01m.\u001b[39;00m\u001b[38;5;21;01msearch_service\u001b[39;00m\u001b[38;5;250m \u001b[39m\u001b[38;5;28;01mimport\u001b[39;00m search\n\u001b[0;32m      4\u001b[0m message \u001b[38;5;241m=\u001b[39m \u001b[38;5;124m\"\u001b[39m\u001b[38;5;124mFind me an article about clime change\u001b[39m\u001b[38;5;124m\"\u001b[39m\n\u001b[1;32m----> 5\u001b[0m res \u001b[38;5;241m=\u001b[39m \u001b[43msearch\u001b[49m\u001b[43m(\u001b[49m\u001b[43mmessage\u001b[49m\u001b[38;5;241;43m=\u001b[39;49m\u001b[43mmessage\u001b[49m\u001b[43m)\u001b[49m\n\u001b[0;32m      6\u001b[0m res   \n",
      "File \u001b[1;32mc:\\Users\\tnguy\\projectx\\services\\search_service.py:114\u001b[0m, in \u001b[0;36msearch\u001b[1;34m(message)\u001b[0m\n\u001b[0;32m    111\u001b[0m aggregate_prompt \u001b[38;5;241m=\u001b[39m create_prompt(context\u001b[38;5;241m=\u001b[39msearch_res, message\u001b[38;5;241m=\u001b[39mmessage)\n\u001b[0;32m    112\u001b[0m chat_queue\u001b[38;5;241m.\u001b[39mappend(generate_request_to_recipient(agent\u001b[38;5;241m=\u001b[39mwriter_agent,message\u001b[38;5;241m=\u001b[39maggregate_prompt, max_turns\u001b[38;5;241m=\u001b[39m\u001b[38;5;241m2\u001b[39m))\n\u001b[1;32m--> 114\u001b[0m res \u001b[38;5;241m=\u001b[39m \u001b[43muser_proxy\u001b[49m\u001b[38;5;241;43m.\u001b[39;49m\u001b[43minitiate_chats\u001b[49m\u001b[43m(\u001b[49m\u001b[43mchat_queue\u001b[49m\u001b[38;5;241;43m=\u001b[39;49m\u001b[43mchat_queue\u001b[49m\u001b[43m)\u001b[49m\n\u001b[0;32m    115\u001b[0m \u001b[38;5;28;01mreturn\u001b[39;00m res[\u001b[38;5;241m-\u001b[39m\u001b[38;5;241m1\u001b[39m]\u001b[38;5;241m.\u001b[39mchat_history[\u001b[38;5;241m-\u001b[39m\u001b[38;5;241m1\u001b[39m][\u001b[38;5;124m'\u001b[39m\u001b[38;5;124mcontent\u001b[39m\u001b[38;5;124m'\u001b[39m]\n",
      "File \u001b[1;32mc:\\Users\\tnguy\\projectx\\env\\Lib\\site-packages\\autogen\\agentchat\\conversable_agent.py:1338\u001b[0m, in \u001b[0;36mConversableAgent.initiate_chats\u001b[1;34m(self, chat_queue)\u001b[0m\n\u001b[0;32m   1329\u001b[0m \u001b[38;5;250m\u001b[39m\u001b[38;5;124;03m\"\"\"(Experimental) Initiate chats with multiple agents.\u001b[39;00m\n\u001b[0;32m   1330\u001b[0m \n\u001b[0;32m   1331\u001b[0m \u001b[38;5;124;03mArgs:\u001b[39;00m\n\u001b[1;32m   (...)\u001b[0m\n\u001b[0;32m   1335\u001b[0m \u001b[38;5;124;03mReturns: a list of ChatResult objects corresponding to the finished chats in the chat_queue.\u001b[39;00m\n\u001b[0;32m   1336\u001b[0m \u001b[38;5;124;03m\"\"\"\u001b[39;00m\n\u001b[0;32m   1337\u001b[0m _chat_queue \u001b[38;5;241m=\u001b[39m \u001b[38;5;28mself\u001b[39m\u001b[38;5;241m.\u001b[39m_check_chat_queue_for_sender(chat_queue)\n\u001b[1;32m-> 1338\u001b[0m \u001b[38;5;28mself\u001b[39m\u001b[38;5;241m.\u001b[39m_finished_chats \u001b[38;5;241m=\u001b[39m \u001b[43minitiate_chats\u001b[49m\u001b[43m(\u001b[49m\u001b[43m_chat_queue\u001b[49m\u001b[43m)\u001b[49m\n\u001b[0;32m   1339\u001b[0m \u001b[38;5;28;01mreturn\u001b[39;00m \u001b[38;5;28mself\u001b[39m\u001b[38;5;241m.\u001b[39m_finished_chats\n",
      "File \u001b[1;32mc:\\Users\\tnguy\\projectx\\env\\Lib\\site-packages\\autogen\\agentchat\\chat.py:217\u001b[0m, in \u001b[0;36minitiate_chats\u001b[1;34m(chat_queue)\u001b[0m\n\u001b[0;32m    214\u001b[0m         __post_carryover_processing(chat_info)\n\u001b[0;32m    216\u001b[0m     sender \u001b[38;5;241m=\u001b[39m chat_info[\u001b[38;5;124m\"\u001b[39m\u001b[38;5;124msender\u001b[39m\u001b[38;5;124m\"\u001b[39m]\n\u001b[1;32m--> 217\u001b[0m     chat_res \u001b[38;5;241m=\u001b[39m \u001b[43msender\u001b[49m\u001b[38;5;241;43m.\u001b[39;49m\u001b[43minitiate_chat\u001b[49m\u001b[43m(\u001b[49m\u001b[38;5;241;43m*\u001b[39;49m\u001b[38;5;241;43m*\u001b[39;49m\u001b[43mchat_info\u001b[49m\u001b[43m)\u001b[49m\n\u001b[0;32m    218\u001b[0m     finished_chats\u001b[38;5;241m.\u001b[39mappend(chat_res)\n\u001b[0;32m    219\u001b[0m \u001b[38;5;28;01mreturn\u001b[39;00m finished_chats\n",
      "File \u001b[1;32mc:\\Users\\tnguy\\projectx\\env\\Lib\\site-packages\\autogen\\agentchat\\conversable_agent.py:1099\u001b[0m, in \u001b[0;36mConversableAgent.initiate_chat\u001b[1;34m(self, recipient, clear_history, silent, cache, max_turns, summary_method, summary_args, message, **kwargs)\u001b[0m\n\u001b[0;32m   1097\u001b[0m         \u001b[38;5;28;01mif\u001b[39;00m msg2send \u001b[38;5;129;01mis\u001b[39;00m \u001b[38;5;28;01mNone\u001b[39;00m:\n\u001b[0;32m   1098\u001b[0m             \u001b[38;5;28;01mbreak\u001b[39;00m\n\u001b[1;32m-> 1099\u001b[0m         \u001b[38;5;28;43mself\u001b[39;49m\u001b[38;5;241;43m.\u001b[39;49m\u001b[43msend\u001b[49m\u001b[43m(\u001b[49m\u001b[43mmsg2send\u001b[49m\u001b[43m,\u001b[49m\u001b[43m \u001b[49m\u001b[43mrecipient\u001b[49m\u001b[43m,\u001b[49m\u001b[43m \u001b[49m\u001b[43mrequest_reply\u001b[49m\u001b[38;5;241;43m=\u001b[39;49m\u001b[38;5;28;43;01mTrue\u001b[39;49;00m\u001b[43m,\u001b[49m\u001b[43m \u001b[49m\u001b[43msilent\u001b[49m\u001b[38;5;241;43m=\u001b[39;49m\u001b[43msilent\u001b[49m\u001b[43m)\u001b[49m\n\u001b[0;32m   1100\u001b[0m \u001b[38;5;28;01melse\u001b[39;00m:\n\u001b[0;32m   1101\u001b[0m     \u001b[38;5;28mself\u001b[39m\u001b[38;5;241m.\u001b[39m_prepare_chat(recipient, clear_history)\n",
      "File \u001b[1;32mc:\\Users\\tnguy\\projectx\\env\\Lib\\site-packages\\autogen\\agentchat\\conversable_agent.py:741\u001b[0m, in \u001b[0;36mConversableAgent.send\u001b[1;34m(self, message, recipient, request_reply, silent)\u001b[0m\n\u001b[0;32m    739\u001b[0m valid \u001b[38;5;241m=\u001b[39m \u001b[38;5;28mself\u001b[39m\u001b[38;5;241m.\u001b[39m_append_oai_message(message, \u001b[38;5;124m\"\u001b[39m\u001b[38;5;124massistant\u001b[39m\u001b[38;5;124m\"\u001b[39m, recipient, is_sending\u001b[38;5;241m=\u001b[39m\u001b[38;5;28;01mTrue\u001b[39;00m)\n\u001b[0;32m    740\u001b[0m \u001b[38;5;28;01mif\u001b[39;00m valid:\n\u001b[1;32m--> 741\u001b[0m     \u001b[43mrecipient\u001b[49m\u001b[38;5;241;43m.\u001b[39;49m\u001b[43mreceive\u001b[49m\u001b[43m(\u001b[49m\u001b[43mmessage\u001b[49m\u001b[43m,\u001b[49m\u001b[43m \u001b[49m\u001b[38;5;28;43mself\u001b[39;49m\u001b[43m,\u001b[49m\u001b[43m \u001b[49m\u001b[43mrequest_reply\u001b[49m\u001b[43m,\u001b[49m\u001b[43m \u001b[49m\u001b[43msilent\u001b[49m\u001b[43m)\u001b[49m\n\u001b[0;32m    742\u001b[0m \u001b[38;5;28;01melse\u001b[39;00m:\n\u001b[0;32m    743\u001b[0m     \u001b[38;5;28;01mraise\u001b[39;00m \u001b[38;5;167;01mValueError\u001b[39;00m(\n\u001b[0;32m    744\u001b[0m         \u001b[38;5;124m\"\u001b[39m\u001b[38;5;124mMessage can\u001b[39m\u001b[38;5;124m'\u001b[39m\u001b[38;5;124mt be converted into a valid ChatCompletion message. Either content or function_call must be provided.\u001b[39m\u001b[38;5;124m\"\u001b[39m\n\u001b[0;32m    745\u001b[0m     )\n",
      "File \u001b[1;32mc:\\Users\\tnguy\\projectx\\env\\Lib\\site-packages\\autogen\\agentchat\\conversable_agent.py:906\u001b[0m, in \u001b[0;36mConversableAgent.receive\u001b[1;34m(self, message, sender, request_reply, silent)\u001b[0m\n\u001b[0;32m    904\u001b[0m \u001b[38;5;28;01mif\u001b[39;00m request_reply \u001b[38;5;129;01mis\u001b[39;00m \u001b[38;5;28;01mFalse\u001b[39;00m \u001b[38;5;129;01mor\u001b[39;00m request_reply \u001b[38;5;129;01mis\u001b[39;00m \u001b[38;5;28;01mNone\u001b[39;00m \u001b[38;5;129;01mand\u001b[39;00m \u001b[38;5;28mself\u001b[39m\u001b[38;5;241m.\u001b[39mreply_at_receive[sender] \u001b[38;5;129;01mis\u001b[39;00m \u001b[38;5;28;01mFalse\u001b[39;00m:\n\u001b[0;32m    905\u001b[0m     \u001b[38;5;28;01mreturn\u001b[39;00m\n\u001b[1;32m--> 906\u001b[0m reply \u001b[38;5;241m=\u001b[39m \u001b[38;5;28;43mself\u001b[39;49m\u001b[38;5;241;43m.\u001b[39;49m\u001b[43mgenerate_reply\u001b[49m\u001b[43m(\u001b[49m\u001b[43mmessages\u001b[49m\u001b[38;5;241;43m=\u001b[39;49m\u001b[38;5;28;43mself\u001b[39;49m\u001b[38;5;241;43m.\u001b[39;49m\u001b[43mchat_messages\u001b[49m\u001b[43m[\u001b[49m\u001b[43msender\u001b[49m\u001b[43m]\u001b[49m\u001b[43m,\u001b[49m\u001b[43m \u001b[49m\u001b[43msender\u001b[49m\u001b[38;5;241;43m=\u001b[39;49m\u001b[43msender\u001b[49m\u001b[43m)\u001b[49m\n\u001b[0;32m    907\u001b[0m \u001b[38;5;28;01mif\u001b[39;00m reply \u001b[38;5;129;01mis\u001b[39;00m \u001b[38;5;129;01mnot\u001b[39;00m \u001b[38;5;28;01mNone\u001b[39;00m:\n\u001b[0;32m    908\u001b[0m     \u001b[38;5;28mself\u001b[39m\u001b[38;5;241m.\u001b[39msend(reply, sender, silent\u001b[38;5;241m=\u001b[39msilent)\n",
      "File \u001b[1;32mc:\\Users\\tnguy\\projectx\\env\\Lib\\site-packages\\autogen\\agentchat\\conversable_agent.py:2060\u001b[0m, in \u001b[0;36mConversableAgent.generate_reply\u001b[1;34m(self, messages, sender, **kwargs)\u001b[0m\n\u001b[0;32m   2058\u001b[0m     \u001b[38;5;28;01mcontinue\u001b[39;00m\n\u001b[0;32m   2059\u001b[0m \u001b[38;5;28;01mif\u001b[39;00m \u001b[38;5;28mself\u001b[39m\u001b[38;5;241m.\u001b[39m_match_trigger(reply_func_tuple[\u001b[38;5;124m\"\u001b[39m\u001b[38;5;124mtrigger\u001b[39m\u001b[38;5;124m\"\u001b[39m], sender):\n\u001b[1;32m-> 2060\u001b[0m     final, reply \u001b[38;5;241m=\u001b[39m \u001b[43mreply_func\u001b[49m\u001b[43m(\u001b[49m\u001b[38;5;28;43mself\u001b[39;49m\u001b[43m,\u001b[49m\u001b[43m \u001b[49m\u001b[43mmessages\u001b[49m\u001b[38;5;241;43m=\u001b[39;49m\u001b[43mmessages\u001b[49m\u001b[43m,\u001b[49m\u001b[43m \u001b[49m\u001b[43msender\u001b[49m\u001b[38;5;241;43m=\u001b[39;49m\u001b[43msender\u001b[49m\u001b[43m,\u001b[49m\u001b[43m \u001b[49m\u001b[43mconfig\u001b[49m\u001b[38;5;241;43m=\u001b[39;49m\u001b[43mreply_func_tuple\u001b[49m\u001b[43m[\u001b[49m\u001b[38;5;124;43m\"\u001b[39;49m\u001b[38;5;124;43mconfig\u001b[39;49m\u001b[38;5;124;43m\"\u001b[39;49m\u001b[43m]\u001b[49m\u001b[43m)\u001b[49m\n\u001b[0;32m   2061\u001b[0m     \u001b[38;5;28;01mif\u001b[39;00m logging_enabled():\n\u001b[0;32m   2062\u001b[0m         log_event(\n\u001b[0;32m   2063\u001b[0m             \u001b[38;5;28mself\u001b[39m,\n\u001b[0;32m   2064\u001b[0m             \u001b[38;5;124m\"\u001b[39m\u001b[38;5;124mreply_func_executed\u001b[39m\u001b[38;5;124m\"\u001b[39m,\n\u001b[1;32m   (...)\u001b[0m\n\u001b[0;32m   2068\u001b[0m             reply\u001b[38;5;241m=\u001b[39mreply,\n\u001b[0;32m   2069\u001b[0m         )\n",
      "File \u001b[1;32mc:\\Users\\tnguy\\projectx\\env\\Lib\\site-packages\\autogen\\agentchat\\conversable_agent.py:1428\u001b[0m, in \u001b[0;36mConversableAgent.generate_oai_reply\u001b[1;34m(self, messages, sender, config)\u001b[0m\n\u001b[0;32m   1426\u001b[0m \u001b[38;5;28;01mif\u001b[39;00m messages \u001b[38;5;129;01mis\u001b[39;00m \u001b[38;5;28;01mNone\u001b[39;00m:\n\u001b[0;32m   1427\u001b[0m     messages \u001b[38;5;241m=\u001b[39m \u001b[38;5;28mself\u001b[39m\u001b[38;5;241m.\u001b[39m_oai_messages[sender]\n\u001b[1;32m-> 1428\u001b[0m extracted_response \u001b[38;5;241m=\u001b[39m \u001b[38;5;28;43mself\u001b[39;49m\u001b[38;5;241;43m.\u001b[39;49m\u001b[43m_generate_oai_reply_from_client\u001b[49m\u001b[43m(\u001b[49m\n\u001b[0;32m   1429\u001b[0m \u001b[43m    \u001b[49m\u001b[43mclient\u001b[49m\u001b[43m,\u001b[49m\u001b[43m \u001b[49m\u001b[38;5;28;43mself\u001b[39;49m\u001b[38;5;241;43m.\u001b[39;49m\u001b[43m_oai_system_message\u001b[49m\u001b[43m \u001b[49m\u001b[38;5;241;43m+\u001b[39;49m\u001b[43m \u001b[49m\u001b[43mmessages\u001b[49m\u001b[43m,\u001b[49m\u001b[43m \u001b[49m\u001b[38;5;28;43mself\u001b[39;49m\u001b[38;5;241;43m.\u001b[39;49m\u001b[43mclient_cache\u001b[49m\n\u001b[0;32m   1430\u001b[0m \u001b[43m\u001b[49m\u001b[43m)\u001b[49m\n\u001b[0;32m   1431\u001b[0m \u001b[38;5;28;01mreturn\u001b[39;00m (\u001b[38;5;28;01mFalse\u001b[39;00m, \u001b[38;5;28;01mNone\u001b[39;00m) \u001b[38;5;28;01mif\u001b[39;00m extracted_response \u001b[38;5;129;01mis\u001b[39;00m \u001b[38;5;28;01mNone\u001b[39;00m \u001b[38;5;28;01melse\u001b[39;00m (\u001b[38;5;28;01mTrue\u001b[39;00m, extracted_response)\n",
      "File \u001b[1;32mc:\\Users\\tnguy\\projectx\\env\\Lib\\site-packages\\autogen\\agentchat\\conversable_agent.py:1447\u001b[0m, in \u001b[0;36mConversableAgent._generate_oai_reply_from_client\u001b[1;34m(self, llm_client, messages, cache)\u001b[0m\n\u001b[0;32m   1444\u001b[0m         all_messages\u001b[38;5;241m.\u001b[39mappend(message)\n\u001b[0;32m   1446\u001b[0m \u001b[38;5;66;03m# TODO: #1143 handle token limit exceeded error\u001b[39;00m\n\u001b[1;32m-> 1447\u001b[0m response \u001b[38;5;241m=\u001b[39m \u001b[43mllm_client\u001b[49m\u001b[38;5;241;43m.\u001b[39;49m\u001b[43mcreate\u001b[49m\u001b[43m(\u001b[49m\n\u001b[0;32m   1448\u001b[0m \u001b[43m    \u001b[49m\u001b[43mcontext\u001b[49m\u001b[38;5;241;43m=\u001b[39;49m\u001b[43mmessages\u001b[49m\u001b[43m[\u001b[49m\u001b[38;5;241;43m-\u001b[39;49m\u001b[38;5;241;43m1\u001b[39;49m\u001b[43m]\u001b[49m\u001b[38;5;241;43m.\u001b[39;49m\u001b[43mpop\u001b[49m\u001b[43m(\u001b[49m\u001b[38;5;124;43m\"\u001b[39;49m\u001b[38;5;124;43mcontext\u001b[39;49m\u001b[38;5;124;43m\"\u001b[39;49m\u001b[43m,\u001b[49m\u001b[43m \u001b[49m\u001b[38;5;28;43;01mNone\u001b[39;49;00m\u001b[43m)\u001b[49m\u001b[43m,\u001b[49m\u001b[43m \u001b[49m\u001b[43mmessages\u001b[49m\u001b[38;5;241;43m=\u001b[39;49m\u001b[43mall_messages\u001b[49m\u001b[43m,\u001b[49m\u001b[43m \u001b[49m\u001b[43mcache\u001b[49m\u001b[38;5;241;43m=\u001b[39;49m\u001b[43mcache\u001b[49m\u001b[43m,\u001b[49m\u001b[43m \u001b[49m\u001b[43magent\u001b[49m\u001b[38;5;241;43m=\u001b[39;49m\u001b[38;5;28;43mself\u001b[39;49m\n\u001b[0;32m   1449\u001b[0m \u001b[43m\u001b[49m\u001b[43m)\u001b[49m\n\u001b[0;32m   1450\u001b[0m extracted_response \u001b[38;5;241m=\u001b[39m llm_client\u001b[38;5;241m.\u001b[39mextract_text_or_completion_object(response)[\u001b[38;5;241m0\u001b[39m]\n\u001b[0;32m   1452\u001b[0m \u001b[38;5;28;01mif\u001b[39;00m extracted_response \u001b[38;5;129;01mis\u001b[39;00m \u001b[38;5;28;01mNone\u001b[39;00m:\n",
      "File \u001b[1;32mc:\\Users\\tnguy\\projectx\\env\\Lib\\site-packages\\autogen\\oai\\client.py:832\u001b[0m, in \u001b[0;36mOpenAIWrapper.create\u001b[1;34m(self, **config)\u001b[0m\n\u001b[0;32m    830\u001b[0m \u001b[38;5;28;01mtry\u001b[39;00m:\n\u001b[0;32m    831\u001b[0m     request_ts \u001b[38;5;241m=\u001b[39m get_current_ts()\n\u001b[1;32m--> 832\u001b[0m     response \u001b[38;5;241m=\u001b[39m \u001b[43mclient\u001b[49m\u001b[38;5;241;43m.\u001b[39;49m\u001b[43mcreate\u001b[49m\u001b[43m(\u001b[49m\u001b[43mparams\u001b[49m\u001b[43m)\u001b[49m\n\u001b[0;32m    833\u001b[0m \u001b[38;5;28;01mexcept\u001b[39;00m APITimeoutError \u001b[38;5;28;01mas\u001b[39;00m err:\n\u001b[0;32m    834\u001b[0m     logger\u001b[38;5;241m.\u001b[39mdebug(\u001b[38;5;124mf\u001b[39m\u001b[38;5;124m\"\u001b[39m\u001b[38;5;124mconfig \u001b[39m\u001b[38;5;132;01m{\u001b[39;00mi\u001b[38;5;132;01m}\u001b[39;00m\u001b[38;5;124m timed out\u001b[39m\u001b[38;5;124m\"\u001b[39m, exc_info\u001b[38;5;241m=\u001b[39m\u001b[38;5;28;01mTrue\u001b[39;00m)\n",
      "File \u001b[1;32mc:\\Users\\tnguy\\projectx\\env\\Lib\\site-packages\\autogen\\oai\\mistral.py:196\u001b[0m, in \u001b[0;36mMistralAIClient.create\u001b[1;34m(self, params)\u001b[0m\n\u001b[0;32m    193\u001b[0m     mistral_finish \u001b[38;5;241m=\u001b[39m \u001b[38;5;124m\"\u001b[39m\u001b[38;5;124mstop\u001b[39m\u001b[38;5;124m\"\u001b[39m\n\u001b[0;32m    194\u001b[0m     tool_calls \u001b[38;5;241m=\u001b[39m \u001b[38;5;28;01mNone\u001b[39;00m\n\u001b[1;32m--> 196\u001b[0m message \u001b[38;5;241m=\u001b[39m \u001b[43mChatCompletionMessage\u001b[49m\u001b[43m(\u001b[49m\n\u001b[0;32m    197\u001b[0m \u001b[43m    \u001b[49m\u001b[43mrole\u001b[49m\u001b[38;5;241;43m=\u001b[39;49m\u001b[38;5;124;43m\"\u001b[39;49m\u001b[38;5;124;43massistant\u001b[39;49m\u001b[38;5;124;43m\"\u001b[39;49m\u001b[43m,\u001b[49m\n\u001b[0;32m    198\u001b[0m \u001b[43m    \u001b[49m\u001b[43mcontent\u001b[49m\u001b[38;5;241;43m=\u001b[39;49m\u001b[43mmistral_response\u001b[49m\u001b[38;5;241;43m.\u001b[39;49m\u001b[43mchoices\u001b[49m\u001b[43m[\u001b[49m\u001b[38;5;241;43m0\u001b[39;49m\u001b[43m]\u001b[49m\u001b[38;5;241;43m.\u001b[39;49m\u001b[43mmessage\u001b[49m\u001b[38;5;241;43m.\u001b[39;49m\u001b[43mcontent\u001b[49m\u001b[43m,\u001b[49m\n\u001b[0;32m    199\u001b[0m \u001b[43m    \u001b[49m\u001b[43mfunction_call\u001b[49m\u001b[38;5;241;43m=\u001b[39;49m\u001b[38;5;28;43;01mNone\u001b[39;49;00m\u001b[43m,\u001b[49m\n\u001b[0;32m    200\u001b[0m \u001b[43m    \u001b[49m\u001b[43mtool_calls\u001b[49m\u001b[38;5;241;43m=\u001b[39;49m\u001b[43mtool_calls\u001b[49m\u001b[43m,\u001b[49m\n\u001b[0;32m    201\u001b[0m \u001b[43m\u001b[49m\u001b[43m)\u001b[49m\n\u001b[0;32m    202\u001b[0m choices \u001b[38;5;241m=\u001b[39m [Choice(finish_reason\u001b[38;5;241m=\u001b[39mmistral_finish, index\u001b[38;5;241m=\u001b[39m\u001b[38;5;241m0\u001b[39m, message\u001b[38;5;241m=\u001b[39mmessage)]\n\u001b[0;32m    204\u001b[0m response_oai \u001b[38;5;241m=\u001b[39m ChatCompletion(\n\u001b[0;32m    205\u001b[0m     \u001b[38;5;28mid\u001b[39m\u001b[38;5;241m=\u001b[39mmistral_response\u001b[38;5;241m.\u001b[39mid,\n\u001b[0;32m    206\u001b[0m     model\u001b[38;5;241m=\u001b[39mmistral_response\u001b[38;5;241m.\u001b[39mmodel,\n\u001b[1;32m   (...)\u001b[0m\n\u001b[0;32m    217\u001b[0m     ),\n\u001b[0;32m    218\u001b[0m )\n",
      "File \u001b[1;32mc:\\Users\\tnguy\\projectx\\env\\Lib\\site-packages\\pydantic\\main.py:214\u001b[0m, in \u001b[0;36mBaseModel.__init__\u001b[1;34m(self, **data)\u001b[0m\n\u001b[0;32m    212\u001b[0m \u001b[38;5;66;03m# `__tracebackhide__` tells pytest and some other tools to omit this function from tracebacks\u001b[39;00m\n\u001b[0;32m    213\u001b[0m __tracebackhide__ \u001b[38;5;241m=\u001b[39m \u001b[38;5;28;01mTrue\u001b[39;00m\n\u001b[1;32m--> 214\u001b[0m validated_self \u001b[38;5;241m=\u001b[39m \u001b[38;5;28;43mself\u001b[39;49m\u001b[38;5;241;43m.\u001b[39;49m\u001b[43m__pydantic_validator__\u001b[49m\u001b[38;5;241;43m.\u001b[39;49m\u001b[43mvalidate_python\u001b[49m\u001b[43m(\u001b[49m\u001b[43mdata\u001b[49m\u001b[43m,\u001b[49m\u001b[43m \u001b[49m\u001b[43mself_instance\u001b[49m\u001b[38;5;241;43m=\u001b[39;49m\u001b[38;5;28;43mself\u001b[39;49m\u001b[43m)\u001b[49m\n\u001b[0;32m    215\u001b[0m \u001b[38;5;28;01mif\u001b[39;00m \u001b[38;5;28mself\u001b[39m \u001b[38;5;129;01mis\u001b[39;00m \u001b[38;5;129;01mnot\u001b[39;00m validated_self:\n\u001b[0;32m    216\u001b[0m     warnings\u001b[38;5;241m.\u001b[39mwarn(\n\u001b[0;32m    217\u001b[0m         \u001b[38;5;124m'\u001b[39m\u001b[38;5;124mA custom validator is returning a value other than `self`.\u001b[39m\u001b[38;5;130;01m\\n\u001b[39;00m\u001b[38;5;124m'\u001b[39m\n\u001b[0;32m    218\u001b[0m         \u001b[38;5;124m\"\u001b[39m\u001b[38;5;124mReturning anything other than `self` from a top level model validator isn\u001b[39m\u001b[38;5;124m'\u001b[39m\u001b[38;5;124mt supported when validating via `__init__`.\u001b[39m\u001b[38;5;130;01m\\n\u001b[39;00m\u001b[38;5;124m\"\u001b[39m\n\u001b[0;32m    219\u001b[0m         \u001b[38;5;124m'\u001b[39m\u001b[38;5;124mSee the `model_validator` docs (https://docs.pydantic.dev/latest/concepts/validators/#model-validators) for more details.\u001b[39m\u001b[38;5;124m'\u001b[39m,\n\u001b[0;32m    220\u001b[0m         stacklevel\u001b[38;5;241m=\u001b[39m\u001b[38;5;241m2\u001b[39m,\n\u001b[0;32m    221\u001b[0m     )\n",
      "\u001b[1;31mValidationError\u001b[0m: 1 validation error for ChatCompletionMessage\ncontent\n  Input should be a valid string [type=string_type, input_value=[TextChunk(text=\"### Summ...(text='.', type='text')], input_type=list]\n    For further information visit https://errors.pydantic.dev/2.10/v/string_type"
     ]
    }
   ],
   "source": [
    "\n",
    "from utils.agents_utils import search\n",
    "\n",
    "\n",
    "message = \"Find me an article about clime change\"\n",
    "res = search(message=message)\n",
    "res   "
   ]
  },
  {
   "cell_type": "code",
   "execution_count": null,
   "metadata": {},
   "outputs": [],
   "source": []
  },
  {
   "cell_type": "code",
   "execution_count": 2,
   "metadata": {},
   "outputs": [
    {
     "data": {
      "text/plain": [
       "\"1. Summary : The strategic competition between the US and China involves economic decoupling, with Vietnam playing a key role by strengthening its economic ties with the US and reducing its reliance on China.\\n\\n2. Detailed Analysis : The document highlights that Vietnam has strengthened its diplomatic ties with the US, particularly in economic cooperation. This alignment serves the US's strategic interests by providing an alternative market to China. Vietnam has actively sought to diversify its export markets and decrease its dependence on China, which aligns with the US's economic goals in the region. This economic cooperation has made Vietnam a crucial partner for the US in its strategic competition with China.\\n\\n3. Citations : 1. vietnam-2024-outlook-report-en.pdf\""
      ]
     },
     "execution_count": 2,
     "metadata": {},
     "output_type": "execute_result"
    }
   ],
   "source": [
    "res[-1].chat_history[-1]['content']"
   ]
  },
  {
   "cell_type": "code",
   "execution_count": 1,
   "metadata": {},
   "outputs": [
    {
     "name": "stdout",
     "output_type": "stream",
     "text": [
      "decorating <function AgentRAG.retrieve at 0x000001940EACD260>\n",
      "decorating <function AgentRAG.generate_completion at 0x000001940FCE4360>\n",
      "decorating <function AgentRAG.query at 0x000001940FCE4400>\n",
      "adding method <class 'services.rag_agents.AgentRAG'> retrieve services.rag_agents\n",
      "adding method <class 'services.rag_agents.AgentRAG'> generate_completion services.rag_agents\n",
      "adding method <class 'services.rag_agents.AgentRAG'> query services.rag_agents\n",
      "🦑 Initialized with db url sqlite:///default.sqlite .\n",
      "🛑 Secret keys may be written to the database. See the `database_redact_keys` option of `TruSession` to prevent this.\n",
      "decorating <function NoAgentRAG.retrieve at 0x000001940FF79C60>\n",
      "decorating <function NoAgentRAG.generate_completion at 0x000001940FF79940>\n",
      "decorating <function NoAgentRAG.query at 0x000001940FF79BC0>\n",
      "adding method <class 'services.rag_no_agents.NoAgentRAG'> retrieve services.rag_no_agents\n",
      "adding method <class 'services.rag_no_agents.NoAgentRAG'> generate_completion services.rag_no_agents\n",
      "adding method <class 'services.rag_no_agents.NoAgentRAG'> query services.rag_no_agents\n"
     ]
    }
   ],
   "source": [
    "from services.rag_no_agents import NoAgentRAG\n",
    "from config import SnowflakeConfig\n",
    "from services.rag_agents import AgentRAG, FilteredAgentRAG"
   ]
  },
  {
   "cell_type": "code",
   "execution_count": 4,
   "metadata": {},
   "outputs": [
    {
     "name": "stdout",
     "output_type": "stream",
     "text": [
      "Snowflake session created successfully!\n",
      "Successfully initialized SnowflakeConnector with search service: CC_SEARCH_SERVICE_CS\n"
     ]
    },
    {
     "data": {
      "text/markdown": [
       "The distinction between 'easy-to-learn' and 'hard-to-learn' tasks impacts the predicted productivity gains from AI by reducing the estimated Total Factor Productivity (TFP) increase within the next 10 years. When considering only easy tasks, the upper bound for TFP increase is about 0.66%. However, recognizing the presence of hard tasks lowers this upper bound to approximately 0.53%. This adjustment accounts for the difficulty in automating and achieving cost savings in hard tasks, which are more complex and lack clear metrics for success.\n",
       "\n",
       "Sources:\n",
       "- The Simple Macroeconomics of AI.pdf"
      ],
      "text/plain": [
       "<IPython.core.display.Markdown object>"
      ]
     },
     "execution_count": 4,
     "metadata": {},
     "output_type": "execute_result"
    }
   ],
   "source": [
    "no_agent_rag = NoAgentRAG(config=SnowflakeConfig())\n",
    "search_res = no_agent_rag.query(query=\"How does the distinction between 'easy-to-learn' and 'hard-to-learn' tasks impact the predicted productivity gains from AI in the next decade?\")\n",
    "Markdown(search_res)"
   ]
  },
  {
   "cell_type": "code",
   "execution_count": 2,
   "metadata": {},
   "outputs": [
    {
     "name": "stdout",
     "output_type": "stream",
     "text": [
      "Snowflake session created successfully!\n",
      "Successfully initialized SnowflakeConnector with search service: CC_SEARCH_SERVICE_CS\n",
      "\u001b[34m\n",
      "********************************************************************************\u001b[0m\n",
      "\u001b[34mStarting a new chat....\u001b[0m\n",
      "\u001b[34m\n",
      "********************************************************************************\u001b[0m\n",
      "\u001b[33muser_proxy\u001b[0m (to writer_agent):\n",
      "\n",
      "\n",
      "   Use the context information and relevant documents to answer the question.\n",
      "   If there is no context information, answer based on your general knowledge. \n",
      "\n",
      "   Respond based on the context information provided:\n",
      "    - If the context information and relevant documents are not sufficient to answer user's message, *ONLY* respond with your general knowledge in any format.\n",
      "    - If there is relevant information in the context information and relevant documents, *ONLY* respond in this format:\n",
      "        - Summary: A brief summary of context information and relevant documents.\n",
      "        - Detailed Analysis: Provide an in-depth and detailed information to answer the question.\n",
      "        - Source: A list of all referenced sources included in the context information and relevant documents (If applicable).\n",
      "\n",
      "    <context>\n",
      "    [{'chunk': \"out as one of Vietnam's leading export sectors, with over 6,000 companies creating employment opportunities for over 2.5 million employees.\\\\n* FTAs continued to open up new markets for manufacturers, leveraging Vietnam's lower labor costs and benefiting from the U.s.- China trade dispute.\\\\n* Electronics and computers emerged as Vietnam's top export, surpassing phones and garments, driven by Samsung, the country's largest exporter.\\\\nVietnam achieved an eighth consecutive year of trade surplus, reaching a record high of Us$683 billion, sustaining robust trade relations with developed and robust markets.\\\\n* The industry's growth was fueled by trade liberalization, economic reforms, and enhancedlaborquality, attracting foreign investors to relocate their electronics sector investments to Vietnam.\\\\nThe U.S. emerged as Vietnam's largest export market, while China stood as the largest import market for Vietnam in the first 11 months of 2023.\\\\n* Despite a challenging 2023 characterized by weak demand, Vietnam's automobile industry achieved a significant milestone with VinFast's Nasdaq debut and the first domestically-made vehicles.\\\\n  \\\\nTop 5 trading partners, 2023 (US$ billion)  \\\\nExport Import  \\\\n10 026 2 19 233 U.S. China EU ASEAN South Kore\\\\n* In 2023, agriculture continued to anchor Vietnam's economy. The country's rice exports reached USs$4.79 billion, driven by an output of 8 million tons, marking an almost 40% increase compared to the previous year and surpassing Thailand's export\", 'relative_path': 'vietnam-2024-outlook-report-en.pdf', 'category': 'Document'}, {'chunk': \"inflationary pressures, interest rate hikes, and supply chain disturbances. Despite these challenges, Vietnam's trade surplus of US$28 billion reflected limited growth in imports of materials and machinery for manufacturing, posing export processing difficulties. However, Vietnam adeptly utilized new generation Free Trade Agreements (FTAs) to navigate these challenges. In 2024, the Agency of Foreign Trade anticipates uncertainties, with increasing trade fragmentation and sustainability transparency. Nonetheless, Vietnam aims to maintain its trade surplus position, with export turnover projected to increase by 6% year-over-year.  \\\\nTop 3 Exports in 2023 (US$ billion) Machinery, Telephones CC and parts Instrument: 53.2 V 8.3% 57.3 3.3% 43.2 V 5.6% (year to year growth) INDUSTRY SNAPSHOTS The textile industry stood out as one of Vietnam's leading export sectors, with over 6,000 companies creating employment Textiles & opportunities for over 2.5 million employees. Garments . FTAs continued to open up new markets for manufacturers, leveraging Vietnam's lower labor costs and benefiting from the U.s.- China trade dispute. Electronics and computers emerged as Vietnam's top export, surpassing phones and garments, driven by Samsung, the country's largest exporter. Electronics The industry's growth was fueled by trade liberalization, economic reforms, and enhancedlaborquality, attracting foreign investors to relocate their electronics sector investments to Vietnam. Despite a challenging 2023\", 'category': 'Document', 'relative_path': 'vietnam-2024-outlook-report-en.pdf'}, {'chunk': \"largest exporter. Electronics The industry's growth was fueled by trade liberalization, economic reforms, and enhancedlaborquality, attracting foreign investors to relocate their electronics sector investments to Vietnam. Despite a challenging 2023 characterized by weak demand, Vietnam's automobile industry Automotive achieved a significant milestone with VinFast's Nasdaq debut and the first domestically-made vehicles. In 2023, agriculture continued to anchor Vietnam's economy. The country's rice exports reached USs$4.79 billion, driven by an output of 8 million tons, marking an almost 40% increase compared to the previous year Agriculture and surpassing Thailand's export turnover. Additionally, the export of fruits and vegetables experienced rapid growth, with a total value of US$5.69 billion, fueled by durian's contribution of Us$2.2 billion as the primary growth driver.  \\\\nExport and import turnover over years (us$ billion)  \\\\nExport Import  \\\\n111T15Ot t 99093 29283 69293 22222 22222 921 2113 2020 2021 2222 2223 EVFTA RCEP took effect took effect  \\\\n2. INDUSTRY SNAPSHOTS\\\\n|Textiles &|The textile industry stood out as one of Vietnam's leading export sectors, with over 6,000 companies creating employment opportunities for over 2.5 million employees.|\\\\n| :---: | :---: |\\\\n|Garments|. FTAs continued to open up new markets for manufacturers, leveraging Vietnam's lower labor costs and benefiting from the U.s.- China trade dispute.|\\\\n||Electronics and computers emerged as Vietnam's top\", 'relative_path': 'vietnam-2024-outlook-report-en.pdf', 'category': 'Document'}]\n",
      "    </context>\n",
      "    <question>  \n",
      "    Based on 'Vietnam 2024 Outlook Report', what are Vietnam’s largest export and import markets, and how have these relationships evolved?\n",
      "    </question>\n",
      "   \n",
      "   Answer: \n",
      "   \n",
      "\n",
      "--------------------------------------------------------------------------------\n"
     ]
    },
    {
     "name": "stderr",
     "output_type": "stream",
     "text": [
      "Token indices sequence length is longer than the specified maximum sequence length for this model (1428 > 512). Running this sequence through the model will result in indexing errors\n"
     ]
    },
    {
     "name": "stdout",
     "output_type": "stream",
     "text": [
      "\u001b[33mwriter_agent\u001b[0m (to user_proxy):\n",
      "\n",
      "- **Summary**: Vietnam's largest export market is the United States, while its largest import market is China. These trade relationships have evolved due to factors such as trade liberalization, economic reforms, and geopolitical dynamics like the U.S.-China trade dispute.\n",
      "\n",
      "- **Detailed Analysis**:\n",
      "  - **Export Market**: The United States is Vietnam's largest export market. This relationship has been strengthened by Vietnam's lower labor costs and the U.S.-China trade dispute, which has led to an increase in Vietnam's exports to the U.S. The electronics and computers sector, driven by Samsung, has emerged as Vietnam's top export, surpassing traditional exports like phones and garments.\n",
      "  - **Import Market**: China is Vietnam's largest import market. This relationship is crucial for Vietnam's manufacturing sector, as it imports materials and machinery from China. However, the limited growth in imports has posed challenges for export processing.\n",
      "  - **Evolution of Trade Relationships**: Vietnam's trade relationships have evolved significantly. The country achieved an eighth consecutive year of trade surplus, reaching a record high of US$683 billion. This was driven by trade liberalization, economic reforms, and enhanced labor quality, which attracted foreign investors to relocate their investments to Vietnam. The country's strategic use of new generation Free Trade Agreements (FTAs) has also helped navigate challenges such as inflationary pressures and supply chain disturbances.\n",
      "\n",
      "- **Source**:\n",
      "  - Vietnam 2024 Outlook Report (vietnam-2024-outlook-report-en.pdf)\n",
      "\n",
      "--------------------------------------------------------------------------------\n",
      "Critic Agent Reflecting ... yellow\n",
      "\u001b[34m\n",
      "********************************************************************************\u001b[0m\n",
      "\u001b[34mStarting a new chat....\u001b[0m\n",
      "\u001b[34m\n",
      "********************************************************************************\u001b[0m\n",
      "\u001b[33muser_proxy\u001b[0m (to critic_agent):\n",
      "\n",
      "\n",
      "        <researcher's response> \n",
      "- **Summary**: Vietnam's largest export market is the United States, while its largest import market is China. These trade relationships have evolved due to factors such as trade liberalization, economic reforms, and geopolitical dynamics like the U.S.-China trade dispute.\n",
      "\n",
      "- **Detailed Analysis**:\n",
      "  - **Export Market**: The United States is Vietnam's largest export market. This relationship has been strengthened by Vietnam's lower labor costs and the U.S.-China trade dispute, which has led to an increase in Vietnam's exports to the U.S. The electronics and computers sector, driven by Samsung, has emerged as Vietnam's top export, surpassing traditional exports like phones and garments.\n",
      "  - **Import Market**: China is Vietnam's largest import market. This relationship is crucial for Vietnam's manufacturing sector, as it imports materials and machinery from China. However, the limited growth in imports has posed challenges for export processing.\n",
      "  - **Evolution of Trade Relationships**: Vietnam's trade relationships have evolved significantly. The country achieved an eighth consecutive year of trade surplus, reaching a record high of US$683 billion. This was driven by trade liberalization, economic reforms, and enhanced labor quality, which attracted foreign investors to relocate their investments to Vietnam. The country's strategic use of new generation Free Trade Agreements (FTAs) has also helped navigate challenges such as inflationary pressures and supply chain disturbances.\n",
      "\n",
      "- **Source**:\n",
      "  - Vietnam 2024 Outlook Report (vietnam-2024-outlook-report-en.pdf) \n",
      " <researcher's response>\n",
      "        \n",
      "Reflect and provide critique on the above writing of a researcher on user's requested topic. Your feedback MUST be based solely on the related context provided below and should not include general feedback or suggestions unrelated to context. Ask the partner to revise the response again based on your feedback, ensuring their research information does not contain unnecessary content and relevant to the requested topic.  \n",
      "\n",
      "        <user's message> \n",
      "\n",
      "   Use the context information and relevant documents to answer the question.\n",
      "   If there is no context information, answer based on your general knowledge. \n",
      "\n",
      "   Respond based on the context information provided:\n",
      "    - If the context information and relevant documents are not sufficient to answer user's message, *ONLY* respond with your general knowledge in any format.\n",
      "    - If there is relevant information in the context information and relevant documents, *ONLY* respond in this format:\n",
      "        - Summary: A brief summary of context information and relevant documents.\n",
      "        - Detailed Analysis: Provide an in-depth and detailed information to answer the question.\n",
      "        - Source: A list of all referenced sources included in the context information and relevant documents (If applicable).\n",
      "\n",
      "    <context>\n",
      "    [{'chunk': \"out as one of Vietnam's leading export sectors, with over 6,000 companies creating employment opportunities for over 2.5 million employees.\\\\n* FTAs continued to open up new markets for manufacturers, leveraging Vietnam's lower labor costs and benefiting from the U.s.- China trade dispute.\\\\n* Electronics and computers emerged as Vietnam's top export, surpassing phones and garments, driven by Samsung, the country's largest exporter.\\\\nVietnam achieved an eighth consecutive year of trade surplus, reaching a record high of Us$683 billion, sustaining robust trade relations with developed and robust markets.\\\\n* The industry's growth was fueled by trade liberalization, economic reforms, and enhancedlaborquality, attracting foreign investors to relocate their electronics sector investments to Vietnam.\\\\nThe U.S. emerged as Vietnam's largest export market, while China stood as the largest import market for Vietnam in the first 11 months of 2023.\\\\n* Despite a challenging 2023 characterized by weak demand, Vietnam's automobile industry achieved a significant milestone with VinFast's Nasdaq debut and the first domestically-made vehicles.\\\\n  \\\\nTop 5 trading partners, 2023 (US$ billion)  \\\\nExport Import  \\\\n10 026 2 19 233 U.S. China EU ASEAN South Kore\\\\n* In 2023, agriculture continued to anchor Vietnam's economy. The country's rice exports reached USs$4.79 billion, driven by an output of 8 million tons, marking an almost 40% increase compared to the previous year and surpassing Thailand's export\", 'relative_path': 'vietnam-2024-outlook-report-en.pdf', 'category': 'Document'}, {'chunk': \"inflationary pressures, interest rate hikes, and supply chain disturbances. Despite these challenges, Vietnam's trade surplus of US$28 billion reflected limited growth in imports of materials and machinery for manufacturing, posing export processing difficulties. However, Vietnam adeptly utilized new generation Free Trade Agreements (FTAs) to navigate these challenges. In 2024, the Agency of Foreign Trade anticipates uncertainties, with increasing trade fragmentation and sustainability transparency. Nonetheless, Vietnam aims to maintain its trade surplus position, with export turnover projected to increase by 6% year-over-year.  \\\\nTop 3 Exports in 2023 (US$ billion) Machinery, Telephones CC and parts Instrument: 53.2 V 8.3% 57.3 3.3% 43.2 V 5.6% (year to year growth) INDUSTRY SNAPSHOTS The textile industry stood out as one of Vietnam's leading export sectors, with over 6,000 companies creating employment Textiles & opportunities for over 2.5 million employees. Garments . FTAs continued to open up new markets for manufacturers, leveraging Vietnam's lower labor costs and benefiting from the U.s.- China trade dispute. Electronics and computers emerged as Vietnam's top export, surpassing phones and garments, driven by Samsung, the country's largest exporter. Electronics The industry's growth was fueled by trade liberalization, economic reforms, and enhancedlaborquality, attracting foreign investors to relocate their electronics sector investments to Vietnam. Despite a challenging 2023\", 'category': 'Document', 'relative_path': 'vietnam-2024-outlook-report-en.pdf'}, {'chunk': \"largest exporter. Electronics The industry's growth was fueled by trade liberalization, economic reforms, and enhancedlaborquality, attracting foreign investors to relocate their electronics sector investments to Vietnam. Despite a challenging 2023 characterized by weak demand, Vietnam's automobile industry Automotive achieved a significant milestone with VinFast's Nasdaq debut and the first domestically-made vehicles. In 2023, agriculture continued to anchor Vietnam's economy. The country's rice exports reached USs$4.79 billion, driven by an output of 8 million tons, marking an almost 40% increase compared to the previous year Agriculture and surpassing Thailand's export turnover. Additionally, the export of fruits and vegetables experienced rapid growth, with a total value of US$5.69 billion, fueled by durian's contribution of Us$2.2 billion as the primary growth driver.  \\\\nExport and import turnover over years (us$ billion)  \\\\nExport Import  \\\\n111T15Ot t 99093 29283 69293 22222 22222 921 2113 2020 2021 2222 2223 EVFTA RCEP took effect took effect  \\\\n2. INDUSTRY SNAPSHOTS\\\\n|Textiles &|The textile industry stood out as one of Vietnam's leading export sectors, with over 6,000 companies creating employment opportunities for over 2.5 million employees.|\\\\n| :---: | :---: |\\\\n|Garments|. FTAs continued to open up new markets for manufacturers, leveraging Vietnam's lower labor costs and benefiting from the U.s.- China trade dispute.|\\\\n||Electronics and computers emerged as Vietnam's top\", 'relative_path': 'vietnam-2024-outlook-report-en.pdf', 'category': 'Document'}]\n",
      "    </context>\n",
      "    <question>  \n",
      "    Based on 'Vietnam 2024 Outlook Report', what are Vietnam’s largest export and import markets, and how have these relationships evolved?\n",
      "    </question>\n",
      "   \n",
      "   Answer: \n",
      "   \n",
      " </user's message>\n",
      "        \n",
      "\n",
      "--------------------------------------------------------------------------------\n",
      "\u001b[33mcritic_agent\u001b[0m (to user_proxy):\n",
      "\n",
      "The response is mostly concise but includes some unnecessary details, such as specific export sectors and the impact of the U.S.-China trade dispute, which diverts attention from the core query about Vietnam's largest export and import markets and their evolution. Additionally, the response could be more focused on the evolution of these trade relationships, providing more specific details on how they have changed over time. A revision should concentrate solely on identifying the largest export and import markets and describing the key factors contributing to the evolution of these relationships, ensuring all information is directly relevant to the user's question.\n",
      "\n",
      "--------------------------------------------------------------------------------\n",
      "\u001b[33muser_proxy\u001b[0m (to writer_agent):\n",
      "\n",
      "The response is mostly concise but includes some unnecessary details, such as specific export sectors and the impact of the U.S.-China trade dispute, which diverts attention from the core query about Vietnam's largest export and import markets and their evolution. Additionally, the response could be more focused on the evolution of these trade relationships, providing more specific details on how they have changed over time. A revision should concentrate solely on identifying the largest export and import markets and describing the key factors contributing to the evolution of these relationships, ensuring all information is directly relevant to the user's question.\n",
      "\n",
      "--------------------------------------------------------------------------------\n",
      "\u001b[33mwriter_agent\u001b[0m (to user_proxy):\n",
      "\n",
      "- **Summary**: Vietnam's largest export market is the United States, while its largest import market is China. These trade relationships have evolved due to trade liberalization, economic reforms, and strategic use of Free Trade Agreements (FTAs).\n",
      "\n",
      "- **Detailed Analysis**:\n",
      "  - **Export Market**: The United States is Vietnam's largest export market. This relationship has been bolstered by Vietnam's strategic use of FTAs and economic reforms, which have opened up new markets and attracted foreign investors.\n",
      "  - **Import Market**: China is Vietnam's largest import market. This relationship is vital for Vietnam's manufacturing sector, as it relies on imports of materials and machinery from China. The limited growth in imports has posed challenges, but Vietnam has managed to maintain a trade surplus.\n",
      "  - **Evolution of Trade Relationships**:\n",
      "    1. **Trade Liberalization and Economic Reforms**: These factors have significantly contributed to the growth of Vietnam's export market, particularly with the United States. Economic reforms have enhanced labor quality and attracted foreign investments, driving exports.\n",
      "    2. **Free Trade Agreements (FTAs)**: Vietnam has leveraged new generation FTAs to navigate challenges such as inflationary pressures and supply chain disruptions. These agreements have helped Vietnam maintain its trade surplus and expand its export markets.\n",
      "    3. **Trade Surplus**: Vietnam has achieved an eighth consecutive year of trade surplus, reaching a record high of US $683 billion. This surplus is a testament to the country's successful trade strategies and economic policies.\n",
      "\n",
      "- **Source**:\n",
      "  - Vietnam 2024 Outlook Report (vietnam-2024-outlook-report-en.pdf)\n",
      "\n",
      "--------------------------------------------------------------------------------\n"
     ]
    },
    {
     "data": {
      "text/plain": [
       "\"- **Summary**: Vietnam's largest export market is the United States, while its largest import market is China. These trade relationships have evolved due to trade liberalization, economic reforms, and strategic use of Free Trade Agreements (FTAs).\\n\\n- **Detailed Analysis**:\\n  - **Export Market**: The United States is Vietnam's largest export market. This relationship has been bolstered by Vietnam's strategic use of FTAs and economic reforms, which have opened up new markets and attracted foreign investors.\\n  - **Import Market**: China is Vietnam's largest import market. This relationship is vital for Vietnam's manufacturing sector, as it relies on imports of materials and machinery from China. The limited growth in imports has posed challenges, but Vietnam has managed to maintain a trade surplus.\\n  - **Evolution of Trade Relationships**:\\n    1. **Trade Liberalization and Economic Reforms**: These factors have significantly contributed to the growth of Vietnam's export market, particularly with the United States. Economic reforms have enhanced labor quality and attracted foreign investments, driving exports.\\n    2. **Free Trade Agreements (FTAs)**: Vietnam has leveraged new generation FTAs to navigate challenges such as inflationary pressures and supply chain disruptions. These agreements have helped Vietnam maintain its trade surplus and expand its export markets.\\n    3. **Trade Surplus**: Vietnam has achieved an eighth consecutive year of trade surplus, reaching a record high of US $683 billion. This surplus is a testament to the country's successful trade strategies and economic policies.\\n\\n- **Source**:\\n  - Vietnam 2024 Outlook Report (vietnam-2024-outlook-report-en.pdf)\""
      ]
     },
     "execution_count": 2,
     "metadata": {},
     "output_type": "execute_result"
    }
   ],
   "source": [
    "agent_rag = AgentRAG(config=SnowflakeConfig())\n",
    "search_res = agent_rag.query(query=\"Based on 'Vietnam 2024 Outlook Report', what are Vietnam’s largest export and import markets, and how have these relationships evolved?\")\n",
    "search_res"
   ]
  },
  {
   "cell_type": "code",
   "execution_count": 2,
   "metadata": {},
   "outputs": [
    {
     "name": "stdout",
     "output_type": "stream",
     "text": [
      "Snowflake session created successfully!\n",
      "Successfully initialized SnowflakeConnector with search service: CC_SEARCH_SERVICE_CS\n"
     ]
    }
   ],
   "source": [
    "from assistance.documents_reading_agent import DocumentReadingAgent\n",
    "document_reading_agent = DocumentReadingAgent()\n",
    "agent_rag = AgentRAG(config=SnowflakeConfig())\n",
    "query = \"Based on 'Vietnam 2024 Outlook Report', what are Vietnam’s largest export and import markets, and how have these relationships evolved?\"\n",
    "relev_doc = agent_rag.get_similar_chunks_search_service(query=query)\n",
    "relevant_chunks = document_reading_agent.get_relevant_information(message=query, retrieve_relevant_documents=relev_doc)"
   ]
  },
  {
   "cell_type": "code",
   "execution_count": 3,
   "metadata": {},
   "outputs": [
    {
     "data": {
      "text/markdown": [
       "*Exports:*\n",
       "- \"The U.S. emerged as Vietnam's largest export market...\" ('vietnam-2024-outlook-report-en.pdf')\n",
       "- \"Electronics and computers emerged as Vietnam's top export, surpassing phones and garments, driven by Samsung, the country's largest exporter.\" ('vietnam-2024-outlook-report-en.pdf')\n",
       "\n",
       "*Imports:*\n",
       "- \"China stood as the largest import market for Vietnam in the first 11 months of 2023.\" ('vietnam-2024-outlook-report-en.pdf')\n",
       "\n",
       "*Trade Relationship Evolution:*\n",
       "- \"FTAs continued to open up new markets for manufacturers, leveraging Vietnam's lower labor costs and benefiting from the U.S.- China trade dispute.\" ('vietnam-2024-outlook-report-en.pdf')\n",
       "- \"The industry's growth was fueled by trade liberalization, economic reforms, and enhanced labor quality, attracting foreign investors to relocate their electronics sector investments to Vietnam.\" ('vietnam-2024-outlook-report-en.pdf')\n",
       "- \"Vietnam achieved an eighth consecutive year of trade surplus, reaching a record high of Us$683 billion, sustaining robust trade relations with developed and robust markets.\" ('vietnam-2024-outlook-report-en.pdf')\n",
       "\n",
       "*Trade Partners:*\n",
       "- \"Top 5 trading partners, 2023 (US$ billion) - Export: U.S., EU, ASEAN, South Korea - Import: China, ASEAN, South Korea, EU, U.S.\" ('vietnam-2024-outlook-report-en.pdf')"
      ],
      "text/plain": [
       "<IPython.core.display.Markdown object>"
      ]
     },
     "execution_count": 3,
     "metadata": {},
     "output_type": "execute_result"
    }
   ],
   "source": [
    "from IPython.display import Markdown\n",
    "Markdown(relevant_chunks)"
   ]
  },
  {
   "cell_type": "code",
   "execution_count": 3,
   "metadata": {},
   "outputs": [
    {
     "name": "stdout",
     "output_type": "stream",
     "text": [
      "Snowflake session created successfully!\n",
      "Successfully initialized SnowflakeConnector with search service: CC_SEARCH_SERVICE_CS\n",
      "Filtering guardrail for query ...\n",
      "\u001b[34m\n",
      "********************************************************************************\u001b[0m\n",
      "\u001b[34mStarting a new chat....\u001b[0m\n",
      "\u001b[34m\n",
      "********************************************************************************\u001b[0m\n",
      "\u001b[33muser_proxy\u001b[0m (to writer_agent):\n",
      "\n",
      "\n",
      "   Use the context information and relevant documents to answer the question.\n",
      "   If there is no context information, answer based on your general knowledge. \n",
      "\n",
      "   Respond based on the context information provided:\n",
      "    - If the context information and relevant documents are not sufficient to answer user's message, *ONLY* respond with your general knowledge in any format.\n",
      "    - If there is relevant information in the context information and relevant documents, *ONLY* respond in this format:\n",
      "        - Summary: A brief summary of context information and relevant documents.\n",
      "        - Detailed Analysis: Provide an in-depth and detailed information to answer the question.\n",
      "        - Source: A list of all referenced sources included in the context information and relevant documents (If applicable).\n",
      "\n",
      "    <context>\n",
      "    The U.S. emerged as Vietnam's largest export market, while China stood as the largest import market for Vietnam in the first 11 months of 2023.\n",
      "\n",
      "Top 5 trading partners, 2023 (US$ billion)\n",
      "Export Import\n",
      "10 026 2 19 233 U.S. China EU ASEAN South Kore\n",
      "\n",
      "*Source: vietnam-2024-outlook-report-en.pdf*\n",
      "    </context>\n",
      "    <question>  \n",
      "    Based on 'Vietnam 2024 Outlook Report', what are Vietnam’s largest export and import markets, and how have these relationships evolved?\n",
      "    </question>\n",
      "   \n",
      "   Answer: \n",
      "   \n",
      "\n",
      "--------------------------------------------------------------------------------\n",
      "\u001b[33m9 tokens saved with text compression.\u001b[0m\n",
      "\u001b[33mwriter_agent\u001b[0m (to user_proxy):\n",
      "\n",
      "### Summary\n",
      "Vietnam's largest export market is the U.S., while its largest import market is China, based on data from the first 11 months of 2023.\n",
      "\n",
      "### Detailed Analysis\n",
      "According to the \"Vietnam 2024 Outlook Report,\" the U.S. emerged as Vietnam's largest export market, with exports valued at approximately $100.26 billion. Concurrently, China stood as the largest import market for Vietnam, with imports valued at around $119.233 billion. This highlights the significant trade relationships Vietnam has with both the U.S. and China, showcasing the evolution of Vietnam's trade dynamics with these major economic partners.\n",
      "\n",
      "### Source\n",
      "- vietnam-2024-outlook-report-en.pdf\n",
      "\n",
      "--------------------------------------------------------------------------------\n",
      "Critic Agent Reflecting ... yellow\n",
      "\u001b[34m\n",
      "********************************************************************************\u001b[0m\n",
      "\u001b[34mStarting a new chat....\u001b[0m\n",
      "\u001b[34m\n",
      "********************************************************************************\u001b[0m\n",
      "\u001b[33muser_proxy\u001b[0m (to critic_agent):\n",
      "\n",
      "\n",
      "        <researcher's response> \n",
      "### Summary\n",
      "Vietnam's largest export market is the U.S., while its largest import market is China, based on data from the first 11 months of 2023.\n",
      "\n",
      "### Detailed Analysis\n",
      "According to the \"Vietnam 2024 Outlook Report,\" the U.S. emerged as Vietnam's largest export market, with exports valued at approximately $100.26 billion. Concurrently, China stood as the largest import market for Vietnam, with imports valued at around $119.233 billion. This highlights the significant trade relationships Vietnam has with both the U.S. and China, showcasing the evolution of Vietnam's trade dynamics with these major economic partners.\n",
      "\n",
      "### Source\n",
      "- vietnam-2024-outlook-report-en.pdf \n",
      " <researcher's response>\n",
      "        \n",
      "Reflect and provide critique on the above writing of a researcher on user's requested topic. Your feedback MUST be based solely on the related context provided below and should not include general feedback or suggestions unrelated to context. Ask the partner to revise the response again based on your feedback, ensuring their research information does not contain unnecessary content and relevant to the requested topic.  \n",
      "\n",
      "        <user's message> \n",
      "\n",
      "   Use the context information and relevant documents to answer the question.\n",
      "   If there is no context information, answer based on your general knowledge. \n",
      "\n",
      "   Respond based on the context information provided:\n",
      "    - If the context information and relevant documents are not sufficient to answer user's message, *ONLY* respond with your general knowledge in any format.\n",
      "    - If there is relevant information in the context information and relevant documents, *ONLY* respond in this format:\n",
      "        - Summary: A brief summary of context information and relevant documents.\n",
      "        - Detailed Analysis: Provide an in-depth and detailed information to answer the question.\n",
      "        - Source: A list of all referenced sources included in the context information and relevant documents (If applicable).\n",
      "\n",
      "    <context>\n",
      "    The U.S. emerged as Vietnam's largest export market, while China stood as the largest import market for Vietnam in the first 11 months of 2023.\n",
      "\n",
      "Top 5 trading partners, 2023 (US$ billion)\n",
      "Export Import\n",
      "10 026 2 19 233 U.S. China EU ASEAN South Kore\n",
      "\n",
      "*Source: vietnam-2024-outlook-report-en.pdf*\n",
      "    </context>\n",
      "    <question>  \n",
      "    Based on 'Vietnam 2024 Outlook Report', what are Vietnam’s largest export and import markets, and how have these relationships evolved?\n",
      "    </question>\n",
      "   \n",
      "   Answer: \n",
      "   \n",
      " </user's message>\n",
      "        \n",
      "\n",
      "--------------------------------------------------------------------------------\n",
      "\u001b[33mcritic_agent\u001b[0m (to user_proxy):\n",
      "\n",
      "The response includes some unnecessary elaboration and repetition, such as reiterating the significance of trade relationships. It should focus more specifically on the evolution of Vietnam's trade dynamics with the U.S. and China, as requested by the user. The response could also benefit from more detailed information on how these relationships have changed over time, if such data is available in the source report. Please revise the response to be more concise and directly address the evolution of Vietnam's trade relationships with its largest export and import markets.\n",
      "\n",
      "--------------------------------------------------------------------------------\n",
      "\u001b[33muser_proxy\u001b[0m (to writer_agent):\n",
      "\n",
      "The response includes some unnecessary elaboration and repetition, such as reiterating the significance of trade relationships. It should focus more specifically on the evolution of Vietnam's trade dynamics with the U.S. and China, as requested by the user. The response could also benefit from more detailed information on how these relationships have changed over time, if such data is available in the source report. Please revise the response to be more concise and directly address the evolution of Vietnam's trade relationships with its largest export and import markets.\n",
      "\n",
      "--------------------------------------------------------------------------------\n",
      "\u001b[33mwriter_agent\u001b[0m (to user_proxy):\n",
      "\n",
      "# # # Summary\n",
      "Vietnam's largest export market is the U.S., while its largest import market is China, based on data from the first 11 months of 2023.\n",
      "\n",
      "# # # Detailed Analysis\n",
      "According to the \"Vietnam 2024 Outlook Report,\" the U.S. is Vietnam's largest export market, with exports valued at approximately $100.26 billion. Meanwhile, China is the largest import market for Vietnam, with imports valued at around $119.233 billion. These figures reflect the trade dynamics between Vietnam and its major partners as of the first 11 months of 2023. However, the report does not provide detailed historical data to illustrate how these relationships have evolved over time.\n",
      "\n",
      "# # # Source\n",
      "- vietnam-2024-outlook-report-en.pdf\n",
      "\n",
      "--------------------------------------------------------------------------------\n"
     ]
    },
    {
     "data": {
      "text/plain": [
       "'# # # Summary\\nVietnam\\'s largest export market is the U.S., while its largest import market is China, based on data from the first 11 months of 2023.\\n\\n# # # Detailed Analysis\\nAccording to the \"Vietnam 2024 Outlook Report,\" the U.S. is Vietnam\\'s largest export market, with exports valued at approximately $100.26 billion. Meanwhile, China is the largest import market for Vietnam, with imports valued at around $119.233 billion. These figures reflect the trade dynamics between Vietnam and its major partners as of the first 11 months of 2023. However, the report does not provide detailed historical data to illustrate how these relationships have evolved over time.\\n\\n# # # Source\\n- vietnam-2024-outlook-report-en.pdf'"
      ]
     },
     "execution_count": 3,
     "metadata": {},
     "output_type": "execute_result"
    }
   ],
   "source": [
    "filtered_agent_rag = FilteredAgentRAG(config=SnowflakeConfig())\n",
    "search_res = filtered_agent_rag.query(query=\"Based on 'Vietnam 2024 Outlook Report', what are Vietnam’s largest export and import markets, and how have these relationships evolved?\")\n",
    "search_res"
   ]
  }
 ],
 "metadata": {
  "kernelspec": {
   "display_name": "env",
   "language": "python",
   "name": "python3"
  },
  "language_info": {
   "codemirror_mode": {
    "name": "ipython",
    "version": 3
   },
   "file_extension": ".py",
   "mimetype": "text/x-python",
   "name": "python",
   "nbconvert_exporter": "python",
   "pygments_lexer": "ipython3",
   "version": "3.11.5"
  }
 },
 "nbformat": 4,
 "nbformat_minor": 4
}
