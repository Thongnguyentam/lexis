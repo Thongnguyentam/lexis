{
 "cells": [
  {
   "cell_type": "markdown",
   "metadata": {},
   "source": [
    "# SnowflakeConnector Testing Notebook"
   ]
  },
  {
   "cell_type": "code",
   "execution_count": 2,
   "metadata": {},
   "outputs": [],
   "source": [
    "# Import required modules and classes\n",
    "from config import SnowflakeConfig\n",
    "import pandas as pd\n",
    "from services.snowflake_utils import SnowflakeConnector"
   ]
  },
  {
   "cell_type": "code",
   "execution_count": 4,
   "metadata": {},
   "outputs": [
    {
     "ename": "SnowparkSessionException",
     "evalue": "(1403): No default Session is found. Please create a session before you call function 'udf' or use decorator '@udf'.",
     "output_type": "error",
     "traceback": [
      "\u001b[1;31m---------------------------------------------------------------------------\u001b[0m",
      "\u001b[1;31mSnowparkSessionException\u001b[0m                  Traceback (most recent call last)",
      "Cell \u001b[1;32mIn[4], line 2\u001b[0m\n\u001b[0;32m      1\u001b[0m \u001b[38;5;28;01mfrom\u001b[39;00m\u001b[38;5;250m \u001b[39m\u001b[38;5;21;01msnowflake\u001b[39;00m\u001b[38;5;21;01m.\u001b[39;00m\u001b[38;5;21;01msnowpark\u001b[39;00m\u001b[38;5;21;01m.\u001b[39;00m\u001b[38;5;21;01mcontext\u001b[39;00m\u001b[38;5;250m \u001b[39m\u001b[38;5;28;01mimport\u001b[39;00m get_active_session\n\u001b[1;32m----> 2\u001b[0m session \u001b[38;5;241m=\u001b[39m \u001b[43mget_active_session\u001b[49m\u001b[43m(\u001b[49m\u001b[43m)\u001b[49m\n",
      "File \u001b[1;32mc:\\Users\\tnguy\\hackathon\\projectx\\env\\Lib\\site-packages\\snowflake\\snowpark\\context.py:32\u001b[0m, in \u001b[0;36mget_active_session\u001b[1;34m()\u001b[0m\n\u001b[0;32m     24\u001b[0m \u001b[38;5;28;01mdef\u001b[39;00m\u001b[38;5;250m \u001b[39m\u001b[38;5;21mget_active_session\u001b[39m() \u001b[38;5;241m-\u001b[39m\u001b[38;5;241m>\u001b[39m \u001b[38;5;124m\"\u001b[39m\u001b[38;5;124msnowflake.snowpark.Session\u001b[39m\u001b[38;5;124m\"\u001b[39m:\n\u001b[0;32m     25\u001b[0m \u001b[38;5;250m    \u001b[39m\u001b[38;5;124;03m\"\"\"Returns the current active Snowpark session.\u001b[39;00m\n\u001b[0;32m     26\u001b[0m \n\u001b[0;32m     27\u001b[0m \u001b[38;5;124;03m    Raises: SnowparkSessionException: If there is more than one active session or no active sessions.\u001b[39;00m\n\u001b[1;32m   (...)\u001b[0m\n\u001b[0;32m     30\u001b[0m \u001b[38;5;124;03m        A :class:`Session` object for the current session.\u001b[39;00m\n\u001b[0;32m     31\u001b[0m \u001b[38;5;124;03m    \"\"\"\u001b[39;00m\n\u001b[1;32m---> 32\u001b[0m     \u001b[38;5;28;01mreturn\u001b[39;00m \u001b[43msnowflake\u001b[49m\u001b[38;5;241;43m.\u001b[39;49m\u001b[43msnowpark\u001b[49m\u001b[38;5;241;43m.\u001b[39;49m\u001b[43msession\u001b[49m\u001b[38;5;241;43m.\u001b[39;49m\u001b[43m_get_active_session\u001b[49m\u001b[43m(\u001b[49m\u001b[43m)\u001b[49m\n",
      "File \u001b[1;32mc:\\Users\\tnguy\\hackathon\\projectx\\env\\Lib\\site-packages\\snowflake\\snowpark\\session.py:284\u001b[0m, in \u001b[0;36m_get_active_session\u001b[1;34m()\u001b[0m\n\u001b[0;32m    282\u001b[0m     \u001b[38;5;28;01mraise\u001b[39;00m SnowparkClientExceptionMessages\u001b[38;5;241m.\u001b[39mMORE_THAN_ONE_ACTIVE_SESSIONS()\n\u001b[0;32m    283\u001b[0m \u001b[38;5;28;01melse\u001b[39;00m:\n\u001b[1;32m--> 284\u001b[0m     \u001b[38;5;28;01mraise\u001b[39;00m SnowparkClientExceptionMessages\u001b[38;5;241m.\u001b[39mSERVER_NO_DEFAULT_SESSION()\n",
      "\u001b[1;31mSnowparkSessionException\u001b[0m: (1403): No default Session is found. Please create a session before you call function 'udf' or use decorator '@udf'."
     ]
    }
   ],
   "source": [
    "from snowflake.snowpark.context import get_active_session\n",
    "session = get_active_session()"
   ]
  },
  {
   "cell_type": "code",
   "execution_count": 3,
   "metadata": {},
   "outputs": [
    {
     "ename": "SnowparkSessionException",
     "evalue": "(1403): No default Session is found. Please create a session before you call function 'udf' or use decorator '@udf'.",
     "output_type": "error",
     "traceback": [
      "\u001b[1;31m---------------------------------------------------------------------------\u001b[0m",
      "\u001b[1;31mSnowparkSessionException\u001b[0m                  Traceback (most recent call last)",
      "Cell \u001b[1;32mIn[3], line 11\u001b[0m\n\u001b[0;32m      1\u001b[0m \u001b[38;5;66;03m# Initialize configuration and connector\u001b[39;00m\n\u001b[0;32m      3\u001b[0m config \u001b[38;5;241m=\u001b[39m SnowflakeConfig(\n\u001b[0;32m      4\u001b[0m     database\u001b[38;5;241m=\u001b[39m\u001b[38;5;124m\"\u001b[39m\u001b[38;5;124mLLM_DEMO\u001b[39m\u001b[38;5;124m\"\u001b[39m,\n\u001b[0;32m      5\u001b[0m     schema\u001b[38;5;241m=\u001b[39m\u001b[38;5;124m\"\u001b[39m\u001b[38;5;124mPODCASTS\u001b[39m\u001b[38;5;124m\"\u001b[39m,\n\u001b[1;32m   (...)\u001b[0m\n\u001b[0;32m      8\u001b[0m     stage_name\u001b[38;5;241m=\u001b[39m\u001b[38;5;124m\"\u001b[39m\u001b[38;5;124m@huberman\u001b[39m\u001b[38;5;124m\"\u001b[39m\n\u001b[0;32m      9\u001b[0m )\n\u001b[1;32m---> 11\u001b[0m connector \u001b[38;5;241m=\u001b[39m \u001b[43mSnowflakeConnector\u001b[49m\u001b[43m(\u001b[49m\u001b[43mconfig\u001b[49m\u001b[43m)\u001b[49m\n\u001b[0;32m     12\u001b[0m \u001b[38;5;28mprint\u001b[39m(\u001b[38;5;124m\"\u001b[39m\u001b[38;5;124mConnector initialized successfully\u001b[39m\u001b[38;5;124m\"\u001b[39m)\n",
      "File \u001b[1;32mc:\\Users\\tnguy\\hackathon\\projectx\\services\\snowflake_utils.py:10\u001b[0m, in \u001b[0;36mSnowflakeConnector.__init__\u001b[1;34m(self, config)\u001b[0m\n\u001b[0;32m      9\u001b[0m \u001b[38;5;28;01mdef\u001b[39;00m\u001b[38;5;250m \u001b[39m\u001b[38;5;21m__init__\u001b[39m(\u001b[38;5;28mself\u001b[39m, config: SnowflakeConfig):\n\u001b[1;32m---> 10\u001b[0m     \u001b[38;5;28mself\u001b[39m\u001b[38;5;241m.\u001b[39msession \u001b[38;5;241m=\u001b[39m \u001b[43mget_active_session\u001b[49m\u001b[43m(\u001b[49m\u001b[43m)\u001b[49m\n\u001b[0;32m     11\u001b[0m     \u001b[38;5;28mself\u001b[39m\u001b[38;5;241m.\u001b[39mconfig \u001b[38;5;241m=\u001b[39m config\n\u001b[0;32m     12\u001b[0m     \u001b[38;5;28mself\u001b[39m\u001b[38;5;241m.\u001b[39mroot \u001b[38;5;241m=\u001b[39m Root(\u001b[38;5;28mself\u001b[39m\u001b[38;5;241m.\u001b[39msession)\n",
      "File \u001b[1;32mc:\\Users\\tnguy\\hackathon\\projectx\\env\\Lib\\site-packages\\snowflake\\snowpark\\context.py:32\u001b[0m, in \u001b[0;36mget_active_session\u001b[1;34m()\u001b[0m\n\u001b[0;32m     24\u001b[0m \u001b[38;5;28;01mdef\u001b[39;00m\u001b[38;5;250m \u001b[39m\u001b[38;5;21mget_active_session\u001b[39m() \u001b[38;5;241m-\u001b[39m\u001b[38;5;241m>\u001b[39m \u001b[38;5;124m\"\u001b[39m\u001b[38;5;124msnowflake.snowpark.Session\u001b[39m\u001b[38;5;124m\"\u001b[39m:\n\u001b[0;32m     25\u001b[0m \u001b[38;5;250m    \u001b[39m\u001b[38;5;124;03m\"\"\"Returns the current active Snowpark session.\u001b[39;00m\n\u001b[0;32m     26\u001b[0m \n\u001b[0;32m     27\u001b[0m \u001b[38;5;124;03m    Raises: SnowparkSessionException: If there is more than one active session or no active sessions.\u001b[39;00m\n\u001b[1;32m   (...)\u001b[0m\n\u001b[0;32m     30\u001b[0m \u001b[38;5;124;03m        A :class:`Session` object for the current session.\u001b[39;00m\n\u001b[0;32m     31\u001b[0m \u001b[38;5;124;03m    \"\"\"\u001b[39;00m\n\u001b[1;32m---> 32\u001b[0m     \u001b[38;5;28;01mreturn\u001b[39;00m \u001b[43msnowflake\u001b[49m\u001b[38;5;241;43m.\u001b[39;49m\u001b[43msnowpark\u001b[49m\u001b[38;5;241;43m.\u001b[39;49m\u001b[43msession\u001b[49m\u001b[38;5;241;43m.\u001b[39;49m\u001b[43m_get_active_session\u001b[49m\u001b[43m(\u001b[49m\u001b[43m)\u001b[49m\n",
      "File \u001b[1;32mc:\\Users\\tnguy\\hackathon\\projectx\\env\\Lib\\site-packages\\snowflake\\snowpark\\session.py:284\u001b[0m, in \u001b[0;36m_get_active_session\u001b[1;34m()\u001b[0m\n\u001b[0;32m    282\u001b[0m     \u001b[38;5;28;01mraise\u001b[39;00m SnowparkClientExceptionMessages\u001b[38;5;241m.\u001b[39mMORE_THAN_ONE_ACTIVE_SESSIONS()\n\u001b[0;32m    283\u001b[0m \u001b[38;5;28;01melse\u001b[39;00m:\n\u001b[1;32m--> 284\u001b[0m     \u001b[38;5;28;01mraise\u001b[39;00m SnowparkClientExceptionMessages\u001b[38;5;241m.\u001b[39mSERVER_NO_DEFAULT_SESSION()\n",
      "\u001b[1;31mSnowparkSessionException\u001b[0m: (1403): No default Session is found. Please create a session before you call function 'udf' or use decorator '@udf'."
     ]
    }
   ],
   "source": [
    "# Initialize configuration and connector\n",
    "\n",
    "config = SnowflakeConfig(\n",
    "    database=\"LLM_DEMO\",\n",
    "    schema=\"PODCASTS\",\n",
    "    search_service=\"NEW_HUBERMAN\",\n",
    "    warehouse=\"tc_wh\",\n",
    "    stage_name=\"@huberman\"\n",
    ")\n",
    "\n",
    "connector = SnowflakeConnector(config)\n",
    "print(\"Connector initialized successfully\")"
   ]
  },
  {
   "cell_type": "markdown",
   "metadata": {},
   "source": [
    "## Test Document Parsing"
   ]
  },
  {
   "cell_type": "code",
   "execution_count": null,
   "metadata": {},
   "outputs": [],
   "source": [
    "# Test document parsing\n",
    "try:\n",
    "    connector.parse_documents_to_table(\"TEST_RAW_TEXT\")\n",
    "    print(\"Document parsing successful\")\n",
    "    \n",
    "    # Check the created table\n",
    "    result = connector.session.sql(\"SELECT COUNT(*) FROM TEST_RAW_TEXT\").collect()\n",
    "    print(f\"Number of documents parsed: {result[0][0]}\")\n",
    "except Exception as e:\n",
    "    print(f\"Error in document parsing: {str(e)}\")"
   ]
  },
  {
   "cell_type": "markdown",
   "metadata": {},
   "source": [
    "## Test Token Counting and Summarization"
   ]
  },
  {
   "cell_type": "code",
   "execution_count": null,
   "metadata": {},
   "outputs": [],
   "source": [
    "# Test token counting\n",
    "try:\n",
    "    token_count = connector.count_tokens(\"raw_text\", \"TEST_RAW_TEXT\")\n",
    "    print(f\"Token count for first document: {token_count}\")\n",
    "except Exception as e:\n",
    "    print(f\"Error in token counting: {str(e)}\")\n",
    "\n",
    "# Test summarization\n",
    "try:\n",
    "    summary = connector.summarize_text(\"raw_text\", \"TEST_RAW_TEXT\")\n",
    "    print(\"\\nDocument summary:\")\n",
    "    print(summary)\n",
    "except Exception as e:\n",
    "    print(f\"Error in summarization: {str(e)}\")"
   ]
  },
  {
   "cell_type": "markdown",
   "metadata": {},
   "source": [
    "## Test Text Chunking"
   ]
  },
  {
   "cell_type": "code",
   "execution_count": null,
   "metadata": {},
   "outputs": [],
   "source": [
    "# Test chunking functionality\n",
    "try:\n",
    "    connector.create_chunked_table(\n",
    "        \"TEST_CHUNK_TEXT\",\n",
    "        \"TEST_RAW_TEXT\",\n",
    "        chunk_size=4000,\n",
    "        overlap=0\n",
    "    )\n",
    "    print(\"Chunking successful\")\n",
    "    \n",
    "    # Check chunk statistics\n",
    "    result = connector.session.sql(\"\"\"\n",
    "        SELECT \n",
    "            COUNT(*) as total_chunks,\n",
    "            COUNT(DISTINCT episode_name) as unique_documents,\n",
    "            AVG(LENGTH(chunk)) as avg_chunk_length\n",
    "        FROM TEST_CHUNK_TEXT\n",
    "    \"\"\").collect()\n",
    "    \n",
    "    print(f\"Total chunks: {result[0]['TOTAL_CHUNKS']}\")\n",
    "    print(f\"Unique documents: {result[0]['UNIQUE_DOCUMENTS']}\")\n",
    "    print(f\"Average chunk length: {result[0]['AVG_CHUNK_LENGTH']:.2f} characters\")\n",
    "except Exception as e:\n",
    "    print(f\"Error in chunking: {str(e)}\")"
   ]
  },
  {
   "cell_type": "markdown",
   "metadata": {},
   "source": [
    "## Test Search Service Creation"
   ]
  },
  {
   "cell_type": "code",
   "execution_count": null,
   "metadata": {},
   "outputs": [],
   "source": [
    "# Test search service creation\n",
    "try:\n",
    "    connector.create_search_service(\n",
    "        \"TEST_SEARCH_SERVICE\",\n",
    "        \"TEST_CHUNK_TEXT\"\n",
    "    )\n",
    "    print(\"Search service created successfully\")\n",
    "except Exception as e:\n",
    "    print(f\"Error in creating search service: {str(e)}\")"
   ]
  },
  {
   "cell_type": "markdown",
   "metadata": {},
   "source": [
    "## Test Document Search"
   ]
  },
  {
   "cell_type": "code",
   "execution_count": null,
   "metadata": {},
   "outputs": [],
   "source": [
    "# Test document search\n",
    "test_query = \"How does sleep affect learning?\"\n",
    "\n",
    "try:\n",
    "    results_df = connector.search_documents(\n",
    "        query=test_query,\n",
    "        limit=3\n",
    "    )\n",
    "    \n",
    "    print(\"Search results:\")\n",
    "    for _, row in results_df.iterrows():\n",
    "        print(f\"\\nDocument: {row['EPISODE_NAME']}\")\n",
    "        print(f\"Chunk: {row['CHUNK'][:200]}...\")\n",
    "        print(\"-\" * 80)\n",
    "except Exception as e:\n",
    "    print(f\"Error in document search: {str(e)}\")"
   ]
  },
  {
   "cell_type": "markdown",
   "metadata": {},
   "source": [
    "## Test Response Generation"
   ]
  },
  {
   "cell_type": "code",
   "execution_count": null,
   "metadata": {},
   "outputs": [],
   "source": [
    "# Test response generation\n",
    "try:\n",
    "    response = connector.generate_response(\n",
    "        model=\"llama3.1-8b\",\n",
    "        prompt=test_query,\n",
    "        context=results_df.to_json()\n",
    "    )\n",
    "    \n",
    "    print(\"Generated response:\")\n",
    "    print(response)\n",
    "except Exception as e:\n",
    "    print(f\"Error in response generation: {str(e)}\")"
   ]
  },
  {
   "cell_type": "markdown",
   "metadata": {},
   "source": [
    "## Clean Up Test Resources"
   ]
  },
  {
   "cell_type": "code",
   "execution_count": null,
   "metadata": {},
   "outputs": [],
   "source": [
    "# Clean up test tables and search service\n",
    "try:\n",
    "    connector.session.sql(\"DROP TABLE IF EXISTS TEST_RAW_TEXT\").collect()\n",
    "    connector.session.sql(\"DROP TABLE IF EXISTS TEST_CHUNK_TEXT\").collect()\n",
    "    connector.session.sql(\"DROP SEARCH SERVICE IF EXISTS TEST_SEARCH_SERVICE\").collect()\n",
    "    print(\"Test resources cleaned up successfully\")\n",
    "except Exception as e:\n",
    "    print(f\"Error in cleanup: {str(e)}\")"
   ]
  }
 ],
 "metadata": {
  "kernelspec": {
   "display_name": "env",
   "language": "python",
   "name": "python3"
  },
  "language_info": {
   "codemirror_mode": {
    "name": "ipython",
    "version": 3
   },
   "file_extension": ".py",
   "mimetype": "text/x-python",
   "name": "python",
   "nbconvert_exporter": "python",
   "pygments_lexer": "ipython3",
   "version": "3.11.5"
  }
 },
 "nbformat": 4,
 "nbformat_minor": 4
}
